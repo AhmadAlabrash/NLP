{
  "nbformat": 4,
  "nbformat_minor": 0,
  "metadata": {
    "colab": {
      "provenance": [],
      "authorship_tag": "ABX9TyP0O+zTNUkhWToNwcfBW8pv",
      "include_colab_link": true
    },
    "kernelspec": {
      "name": "python3",
      "display_name": "Python 3"
    },
    "language_info": {
      "name": "python"
    }
  },
  "cells": [
    {
      "cell_type": "markdown",
      "metadata": {
        "id": "view-in-github",
        "colab_type": "text"
      },
      "source": [
        "<a href=\"https://colab.research.google.com/github/AhmadAlabrash/NLP/blob/main/NLP_gensim.ipynb\" target=\"_parent\"><img src=\"https://colab.research.google.com/assets/colab-badge.svg\" alt=\"Open In Colab\"/></a>"
      ]
    },
    {
      "cell_type": "code",
      "execution_count": 2,
      "metadata": {
        "colab": {
          "base_uri": "https://localhost:8080/"
        },
        "id": "EyAr_X3MMyRa",
        "outputId": "0b7766f3-63c3-4ad3-a668-18c0746395a0"
      },
      "outputs": [
        {
          "output_type": "stream",
          "name": "stdout",
          "text": [
            "[==================================================] 100.0% 104.8/104.8MB downloaded\n"
          ]
        }
      ],
      "source": [
        "import gensim.downloader as api\n",
        "model = api.load(\"glove-twitter-25\")"
      ]
    },
    {
      "cell_type": "code",
      "source": [
        "model.similarity('fish','cat')"
      ],
      "metadata": {
        "colab": {
          "base_uri": "https://localhost:8080/"
        },
        "id": "woL-WF0NRlWP",
        "outputId": "6341504d-881c-48ae-dd4b-84c01e687ade"
      },
      "execution_count": 7,
      "outputs": [
        {
          "output_type": "execute_result",
          "data": {
            "text/plain": [
              "0.84418094"
            ]
          },
          "metadata": {},
          "execution_count": 7
        }
      ]
    },
    {
      "cell_type": "code",
      "source": [
        "model.most_similar('dog',topn=20)"
      ],
      "metadata": {
        "colab": {
          "base_uri": "https://localhost:8080/"
        },
        "id": "_tDVy5VhSAFH",
        "outputId": "67d32ad9-908b-4a3c-d0f6-f10a2057fc70"
      },
      "execution_count": 9,
      "outputs": [
        {
          "output_type": "execute_result",
          "data": {
            "text/plain": [
              "[('cat', 0.9590820074081421),\n",
              " ('dogs', 0.9244232177734375),\n",
              " ('horse', 0.9209402799606323),\n",
              " ('monkey', 0.9146844148635864),\n",
              " ('pig', 0.9116264581680298),\n",
              " ('kid', 0.902455747127533),\n",
              " ('puppy', 0.9024085402488708),\n",
              " ('bear', 0.9013874530792236),\n",
              " ('pet', 0.8971228003501892),\n",
              " ('dirty', 0.8893659710884094),\n",
              " ('fish', 0.88729327917099),\n",
              " ('called', 0.8818194270133972),\n",
              " ('duck', 0.880221426486969),\n",
              " ('lady', 0.8789709210395813),\n",
              " ('girl', 0.8779827356338501),\n",
              " ('mother', 0.8767556548118591),\n",
              " ('house', 0.8766074776649475),\n",
              " ('fat', 0.8757638335227966),\n",
              " ('dick', 0.874890923500061),\n",
              " ('guy', 0.8710371255874634)]"
            ]
          },
          "metadata": {},
          "execution_count": 9
        }
      ]
    },
    {
      "cell_type": "code",
      "source": [
        "model.most_similar(positive=['paris','berlin'],negative='france')"
      ],
      "metadata": {
        "colab": {
          "base_uri": "https://localhost:8080/"
        },
        "id": "0U1CNPrsSqn0",
        "outputId": "eaa4fb37-f6b4-4088-ade4-82c743291f1d"
      },
      "execution_count": 13,
      "outputs": [
        {
          "output_type": "execute_result",
          "data": {
            "text/plain": [
              "[('مسارح', 0.920771062374115),\n",
              " ('وجربت', 0.8868572115898132),\n",
              " ('знатный', 0.8647140860557556),\n",
              " ('أهدابك', 0.8451294302940369),\n",
              " ('منافي', 0.8442737460136414),\n",
              " ('охуительный', 0.8435590863227844),\n",
              " ('فرحتى', 0.8432220816612244),\n",
              " ('العضله', 0.8361683487892151),\n",
              " ('шикарнейший', 0.8335782885551453),\n",
              " ('паралимпийский', 0.8335719108581543)]"
            ]
          },
          "metadata": {},
          "execution_count": 13
        }
      ]
    },
    {
      "cell_type": "code",
      "source": [
        "model.most_similar(positive=['king', 'woman'], negative=['man'], topn=5)"
      ],
      "metadata": {
        "colab": {
          "base_uri": "https://localhost:8080/"
        },
        "id": "aFEoarLJTQ84",
        "outputId": "4700ead9-1b01-4a42-cda1-5c8fd4aef08e"
      },
      "execution_count": 14,
      "outputs": [
        {
          "output_type": "execute_result",
          "data": {
            "text/plain": [
              "[('meets', 0.8841923475265503),\n",
              " ('prince', 0.832163393497467),\n",
              " ('queen', 0.8257461190223694),\n",
              " ('’s', 0.8174097537994385),\n",
              " ('crow', 0.8134994506835938)]"
            ]
          },
          "metadata": {},
          "execution_count": 14
        }
      ]
    },
    {
      "cell_type": "code",
      "source": [
        "model.most_similar(positive=['france', 'berlin'], negative=['paris'], topn=5)"
      ],
      "metadata": {
        "colab": {
          "base_uri": "https://localhost:8080/"
        },
        "id": "fddoAmqdTenx",
        "outputId": "c90ce949-d6e7-42d0-da1a-39ec888c9bdb"
      },
      "execution_count": 15,
      "outputs": [
        {
          "output_type": "execute_result",
          "data": {
            "text/plain": [
              "[('frankfurt', 0.8528209328651428),\n",
              " ('hamburg', 0.8513831496238708),\n",
              " ('deutschland', 0.849245011806488),\n",
              " ('münchen', 0.8251251578330994),\n",
              " ('düsseldorf', 0.8218944072723389)]"
            ]
          },
          "metadata": {},
          "execution_count": 15
        }
      ]
    },
    {
      "cell_type": "code",
      "source": [
        "model.doesnt_match(['france', 'berlin','london','damascus'])"
      ],
      "metadata": {
        "colab": {
          "base_uri": "https://localhost:8080/",
          "height": 90
        },
        "id": "eFEWNIsdTVgq",
        "outputId": "203afb2c-d8e3-445e-af2c-f5df4e4ee890"
      },
      "execution_count": 16,
      "outputs": [
        {
          "output_type": "stream",
          "name": "stderr",
          "text": [
            "/usr/local/lib/python3.7/dist-packages/gensim/models/keyedvectors.py:895: FutureWarning: arrays to stack must be passed as a \"sequence\" type such as list or tuple. Support for non-sequence iterables such as generators is deprecated as of NumPy 1.16 and will raise an error in the future.\n",
            "  vectors = vstack(self.word_vec(word, use_norm=True) for word in used_words).astype(REAL)\n"
          ]
        },
        {
          "output_type": "execute_result",
          "data": {
            "text/plain": [
              "'damascus'"
            ],
            "application/vnd.google.colaboratory.intrinsic+json": {
              "type": "string"
            }
          },
          "metadata": {},
          "execution_count": 16
        }
      ]
    }
  ]
}