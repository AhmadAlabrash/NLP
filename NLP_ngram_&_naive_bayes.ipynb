{
  "nbformat": 4,
  "nbformat_minor": 0,
  "metadata": {
    "colab": {
      "provenance": [],
      "authorship_tag": "ABX9TyPaCkbcgQMD0AGmwNxLbZHU",
      "include_colab_link": true
    },
    "kernelspec": {
      "name": "python3",
      "display_name": "Python 3"
    },
    "language_info": {
      "name": "python"
    }
  },
  "cells": [
    {
      "cell_type": "markdown",
      "metadata": {
        "id": "view-in-github",
        "colab_type": "text"
      },
      "source": [
        "<a href=\"https://colab.research.google.com/github/AhmadAlabrash/NLP/blob/main/NLP_ngram_%26_naive_bayes.ipynb\" target=\"_parent\"><img src=\"https://colab.research.google.com/assets/colab-badge.svg\" alt=\"Open In Colab\"/></a>"
      ]
    },
    {
      "cell_type": "code",
      "source": [
        "import sklearn"
      ],
      "metadata": {
        "id": "cRhqCg9OQbH_"
      },
      "execution_count": 47,
      "outputs": []
    },
    {
      "cell_type": "code",
      "source": [
        "doc = \"We just opened our wings, the flying part is coming soon\""
      ],
      "metadata": {
        "id": "NLH9vZYfQzFY"
      },
      "execution_count": 48,
      "outputs": []
    },
    {
      "cell_type": "code",
      "execution_count": 49,
      "metadata": {
        "colab": {
          "base_uri": "https://localhost:8080/"
        },
        "id": "zKRywdJZM0xO",
        "outputId": "57f46bb5-5e55-4488-a2d3-a3024c5e1f52"
      },
      "outputs": [
        {
          "output_type": "execute_result",
          "data": {
            "text/plain": [
              "{'we': 9,\n",
              " 'just': 3,\n",
              " 'opened': 4,\n",
              " 'our': 5,\n",
              " 'wings': 10,\n",
              " 'the': 8,\n",
              " 'flying': 1,\n",
              " 'part': 6,\n",
              " 'is': 2,\n",
              " 'coming': 0,\n",
              " 'soon': 7}"
            ]
          },
          "metadata": {},
          "execution_count": 49
        }
      ],
      "source": [
        "from sklearn.feature_extraction.text import CountVectorizer\n",
        "v = CountVectorizer(ngram_range=(1,1))\n",
        "v.fit_transform([doc],)\n",
        "v.vocabulary_"
      ]
    },
    {
      "cell_type": "code",
      "source": [
        "v = CountVectorizer(ngram_range=(2,2))\n",
        "v.fit_transform([doc],)\n",
        "v.vocabulary_"
      ],
      "metadata": {
        "colab": {
          "base_uri": "https://localhost:8080/"
        },
        "id": "eJvuP_nWShtt",
        "outputId": "a805faab-7925-4785-d0c9-42b302fcf52f"
      },
      "execution_count": 50,
      "outputs": [
        {
          "output_type": "execute_result",
          "data": {
            "text/plain": [
              "{'we just': 8,\n",
              " 'just opened': 3,\n",
              " 'opened our': 4,\n",
              " 'our wings': 5,\n",
              " 'wings the': 9,\n",
              " 'the flying': 7,\n",
              " 'flying part': 1,\n",
              " 'part is': 6,\n",
              " 'is coming': 2,\n",
              " 'coming soon': 0}"
            ]
          },
          "metadata": {},
          "execution_count": 50
        }
      ]
    },
    {
      "cell_type": "code",
      "source": [
        "v = CountVectorizer(ngram_range=(1,2))\n",
        "v.fit_transform([doc],)\n",
        "v.vocabulary_"
      ],
      "metadata": {
        "colab": {
          "base_uri": "https://localhost:8080/"
        },
        "id": "nAitiqTzSv0J",
        "outputId": "238d2435-15ab-471f-de95-c3f3b6863663"
      },
      "execution_count": 51,
      "outputs": [
        {
          "output_type": "execute_result",
          "data": {
            "text/plain": [
              "{'we': 17,\n",
              " 'just': 6,\n",
              " 'opened': 8,\n",
              " 'our': 10,\n",
              " 'wings': 19,\n",
              " 'the': 15,\n",
              " 'flying': 2,\n",
              " 'part': 12,\n",
              " 'is': 4,\n",
              " 'coming': 0,\n",
              " 'soon': 14,\n",
              " 'we just': 18,\n",
              " 'just opened': 7,\n",
              " 'opened our': 9,\n",
              " 'our wings': 11,\n",
              " 'wings the': 20,\n",
              " 'the flying': 16,\n",
              " 'flying part': 3,\n",
              " 'part is': 13,\n",
              " 'is coming': 5,\n",
              " 'coming soon': 1}"
            ]
          },
          "metadata": {},
          "execution_count": 51
        }
      ]
    },
    {
      "cell_type": "code",
      "source": [
        "import pandas as pd\n",
        "df =pd.read_json('/content/news_dataset.json')\n",
        "df.shape"
      ],
      "metadata": {
        "colab": {
          "base_uri": "https://localhost:8080/"
        },
        "id": "VELfhYdoT2Ac",
        "outputId": "ca84adc5-966f-4f4a-d44b-eabbb991bbf8"
      },
      "execution_count": 52,
      "outputs": [
        {
          "output_type": "execute_result",
          "data": {
            "text/plain": [
              "(12695, 2)"
            ]
          },
          "metadata": {},
          "execution_count": 52
        }
      ]
    },
    {
      "cell_type": "code",
      "source": [
        "df.category.value_counts()"
      ],
      "metadata": {
        "colab": {
          "base_uri": "https://localhost:8080/"
        },
        "id": "n-XMPd2IX-gc",
        "outputId": "b169b0d7-e324-49e3-d5c5-bc1ddbd969f2"
      },
      "execution_count": 53,
      "outputs": [
        {
          "output_type": "execute_result",
          "data": {
            "text/plain": [
              "BUSINESS    4254\n",
              "SPORTS      4167\n",
              "CRIME       2893\n",
              "SCIENCE     1381\n",
              "Name: category, dtype: int64"
            ]
          },
          "metadata": {},
          "execution_count": 53
        }
      ]
    },
    {
      "cell_type": "code",
      "source": [
        "#to make our dataset balance we will undersampling it to 1381\n",
        "df1 =df[df.category == 'BUSINESS'].sample(1381)\n",
        "df2 =df[df.category == 'SPORTS'].sample(1381)\n",
        "df3 =df[df.category == 'CRIME'].sample(1381)\n",
        "df4 =df[df.category == 'SCIENCE']"
      ],
      "metadata": {
        "id": "QwQcvXUTYIn1"
      },
      "execution_count": 54,
      "outputs": []
    },
    {
      "cell_type": "code",
      "source": [
        "from sklearn.utils import shuffle\n",
        "df_balanced = pd.concat((df1,df2,df3,df4))"
      ],
      "metadata": {
        "id": "ZQcoZH5EZBEE"
      },
      "execution_count": 55,
      "outputs": []
    },
    {
      "cell_type": "code",
      "source": [
        "df_balanced"
      ],
      "metadata": {
        "colab": {
          "base_uri": "https://localhost:8080/",
          "height": 424
        },
        "id": "m_1Vp_8BZifz",
        "outputId": "3839827d-307d-4f53-9197-0d96c33aabfa"
      },
      "execution_count": 56,
      "outputs": [
        {
          "output_type": "execute_result",
          "data": {
            "text/plain": [
              "                                                    text  category\n",
              "2287   The Hottest Cars at the Geneva Auto Show You c...  BUSINESS\n",
              "1412   Five Tips to Transform Talent in the Workplace...  BUSINESS\n",
              "10669  Mediation Room At Boston Company Helps Workers...  BUSINESS\n",
              "535    5 Tech Companies With Fewer Workers Than HP Ju...  BUSINESS\n",
              "1550   Finally, Someone Got The Best Of Uber The batt...  BUSINESS\n",
              "...                                                  ...       ...\n",
              "12632  New Continent Zealandia Is Discovered Underwat...   SCIENCE\n",
              "12644  Smartphone Lovers More Likely To Forget Things...   SCIENCE\n",
              "12669  Ambitious Test On Tap For Real-Life 'Flying Sa...   SCIENCE\n",
              "12691  This Minivan-Sized Sea Sponge Is Thought To Be...   SCIENCE\n",
              "12692  RECAP: Dramatic Eclipse Photos Don't miss the ...   SCIENCE\n",
              "\n",
              "[5524 rows x 2 columns]"
            ],
            "text/html": [
              "\n",
              "  <div id=\"df-6f1db62c-809a-415f-9928-69f18bb75c8a\">\n",
              "    <div class=\"colab-df-container\">\n",
              "      <div>\n",
              "<style scoped>\n",
              "    .dataframe tbody tr th:only-of-type {\n",
              "        vertical-align: middle;\n",
              "    }\n",
              "\n",
              "    .dataframe tbody tr th {\n",
              "        vertical-align: top;\n",
              "    }\n",
              "\n",
              "    .dataframe thead th {\n",
              "        text-align: right;\n",
              "    }\n",
              "</style>\n",
              "<table border=\"1\" class=\"dataframe\">\n",
              "  <thead>\n",
              "    <tr style=\"text-align: right;\">\n",
              "      <th></th>\n",
              "      <th>text</th>\n",
              "      <th>category</th>\n",
              "    </tr>\n",
              "  </thead>\n",
              "  <tbody>\n",
              "    <tr>\n",
              "      <th>2287</th>\n",
              "      <td>The Hottest Cars at the Geneva Auto Show You c...</td>\n",
              "      <td>BUSINESS</td>\n",
              "    </tr>\n",
              "    <tr>\n",
              "      <th>1412</th>\n",
              "      <td>Five Tips to Transform Talent in the Workplace...</td>\n",
              "      <td>BUSINESS</td>\n",
              "    </tr>\n",
              "    <tr>\n",
              "      <th>10669</th>\n",
              "      <td>Mediation Room At Boston Company Helps Workers...</td>\n",
              "      <td>BUSINESS</td>\n",
              "    </tr>\n",
              "    <tr>\n",
              "      <th>535</th>\n",
              "      <td>5 Tech Companies With Fewer Workers Than HP Ju...</td>\n",
              "      <td>BUSINESS</td>\n",
              "    </tr>\n",
              "    <tr>\n",
              "      <th>1550</th>\n",
              "      <td>Finally, Someone Got The Best Of Uber The batt...</td>\n",
              "      <td>BUSINESS</td>\n",
              "    </tr>\n",
              "    <tr>\n",
              "      <th>...</th>\n",
              "      <td>...</td>\n",
              "      <td>...</td>\n",
              "    </tr>\n",
              "    <tr>\n",
              "      <th>12632</th>\n",
              "      <td>New Continent Zealandia Is Discovered Underwat...</td>\n",
              "      <td>SCIENCE</td>\n",
              "    </tr>\n",
              "    <tr>\n",
              "      <th>12644</th>\n",
              "      <td>Smartphone Lovers More Likely To Forget Things...</td>\n",
              "      <td>SCIENCE</td>\n",
              "    </tr>\n",
              "    <tr>\n",
              "      <th>12669</th>\n",
              "      <td>Ambitious Test On Tap For Real-Life 'Flying Sa...</td>\n",
              "      <td>SCIENCE</td>\n",
              "    </tr>\n",
              "    <tr>\n",
              "      <th>12691</th>\n",
              "      <td>This Minivan-Sized Sea Sponge Is Thought To Be...</td>\n",
              "      <td>SCIENCE</td>\n",
              "    </tr>\n",
              "    <tr>\n",
              "      <th>12692</th>\n",
              "      <td>RECAP: Dramatic Eclipse Photos Don't miss the ...</td>\n",
              "      <td>SCIENCE</td>\n",
              "    </tr>\n",
              "  </tbody>\n",
              "</table>\n",
              "<p>5524 rows × 2 columns</p>\n",
              "</div>\n",
              "      <button class=\"colab-df-convert\" onclick=\"convertToInteractive('df-6f1db62c-809a-415f-9928-69f18bb75c8a')\"\n",
              "              title=\"Convert this dataframe to an interactive table.\"\n",
              "              style=\"display:none;\">\n",
              "        \n",
              "  <svg xmlns=\"http://www.w3.org/2000/svg\" height=\"24px\"viewBox=\"0 0 24 24\"\n",
              "       width=\"24px\">\n",
              "    <path d=\"M0 0h24v24H0V0z\" fill=\"none\"/>\n",
              "    <path d=\"M18.56 5.44l.94 2.06.94-2.06 2.06-.94-2.06-.94-.94-2.06-.94 2.06-2.06.94zm-11 1L8.5 8.5l.94-2.06 2.06-.94-2.06-.94L8.5 2.5l-.94 2.06-2.06.94zm10 10l.94 2.06.94-2.06 2.06-.94-2.06-.94-.94-2.06-.94 2.06-2.06.94z\"/><path d=\"M17.41 7.96l-1.37-1.37c-.4-.4-.92-.59-1.43-.59-.52 0-1.04.2-1.43.59L10.3 9.45l-7.72 7.72c-.78.78-.78 2.05 0 2.83L4 21.41c.39.39.9.59 1.41.59.51 0 1.02-.2 1.41-.59l7.78-7.78 2.81-2.81c.8-.78.8-2.07 0-2.86zM5.41 20L4 18.59l7.72-7.72 1.47 1.35L5.41 20z\"/>\n",
              "  </svg>\n",
              "      </button>\n",
              "      \n",
              "  <style>\n",
              "    .colab-df-container {\n",
              "      display:flex;\n",
              "      flex-wrap:wrap;\n",
              "      gap: 12px;\n",
              "    }\n",
              "\n",
              "    .colab-df-convert {\n",
              "      background-color: #E8F0FE;\n",
              "      border: none;\n",
              "      border-radius: 50%;\n",
              "      cursor: pointer;\n",
              "      display: none;\n",
              "      fill: #1967D2;\n",
              "      height: 32px;\n",
              "      padding: 0 0 0 0;\n",
              "      width: 32px;\n",
              "    }\n",
              "\n",
              "    .colab-df-convert:hover {\n",
              "      background-color: #E2EBFA;\n",
              "      box-shadow: 0px 1px 2px rgba(60, 64, 67, 0.3), 0px 1px 3px 1px rgba(60, 64, 67, 0.15);\n",
              "      fill: #174EA6;\n",
              "    }\n",
              "\n",
              "    [theme=dark] .colab-df-convert {\n",
              "      background-color: #3B4455;\n",
              "      fill: #D2E3FC;\n",
              "    }\n",
              "\n",
              "    [theme=dark] .colab-df-convert:hover {\n",
              "      background-color: #434B5C;\n",
              "      box-shadow: 0px 1px 3px 1px rgba(0, 0, 0, 0.15);\n",
              "      filter: drop-shadow(0px 1px 2px rgba(0, 0, 0, 0.3));\n",
              "      fill: #FFFFFF;\n",
              "    }\n",
              "  </style>\n",
              "\n",
              "      <script>\n",
              "        const buttonEl =\n",
              "          document.querySelector('#df-6f1db62c-809a-415f-9928-69f18bb75c8a button.colab-df-convert');\n",
              "        buttonEl.style.display =\n",
              "          google.colab.kernel.accessAllowed ? 'block' : 'none';\n",
              "\n",
              "        async function convertToInteractive(key) {\n",
              "          const element = document.querySelector('#df-6f1db62c-809a-415f-9928-69f18bb75c8a');\n",
              "          const dataTable =\n",
              "            await google.colab.kernel.invokeFunction('convertToInteractive',\n",
              "                                                     [key], {});\n",
              "          if (!dataTable) return;\n",
              "\n",
              "          const docLinkHtml = 'Like what you see? Visit the ' +\n",
              "            '<a target=\"_blank\" href=https://colab.research.google.com/notebooks/data_table.ipynb>data table notebook</a>'\n",
              "            + ' to learn more about interactive tables.';\n",
              "          element.innerHTML = '';\n",
              "          dataTable['output_type'] = 'display_data';\n",
              "          await google.colab.output.renderOutput(dataTable, element);\n",
              "          const docLink = document.createElement('div');\n",
              "          docLink.innerHTML = docLinkHtml;\n",
              "          element.appendChild(docLink);\n",
              "        }\n",
              "      </script>\n",
              "    </div>\n",
              "  </div>\n",
              "  "
            ]
          },
          "metadata": {},
          "execution_count": 56
        }
      ]
    },
    {
      "cell_type": "code",
      "source": [
        "from sklearn.model_selection import train_test_split\n",
        "X,x,Y,y =train_test_split(df_balanced.text,df_balanced.category ,train_size=0.8,shuffle=True)"
      ],
      "metadata": {
        "id": "WubM13g7Z5Ns"
      },
      "execution_count": 61,
      "outputs": []
    },
    {
      "cell_type": "code",
      "source": [
        "from sklearn.feature_extraction.text import CountVectorizer\n",
        "from sklearn.naive_bayes import MultinomialNB"
      ],
      "metadata": {
        "id": "21U5UkokbPAA"
      },
      "execution_count": 62,
      "outputs": []
    },
    {
      "cell_type": "code",
      "source": [
        "import seaborn as sns\n",
        "from sklearn.metrics import classification_report\n",
        "from sklearn.metrics import confusion_matrix"
      ],
      "metadata": {
        "id": "nL2bK_TScIci"
      },
      "execution_count": 67,
      "outputs": []
    },
    {
      "cell_type": "code",
      "source": [
        "from sklearn.pipeline import Pipeline\n",
        "\n",
        "clf = Pipeline([\n",
        "    ('co',CountVectorizer(ngram_range=(1,1))),\n",
        "    ('nv',MultinomialNB())\n",
        "])\n",
        "\n",
        "clf.fit(X,Y)\n",
        "y_pr = clf.predict(x)\n",
        "\n",
        "cm = confusion_matrix(y,y_pr)\n",
        "\n",
        "print(classification_report(y,y_pr))\n",
        "\n",
        "sns.heatmap(cm , annot=True)"
      ],
      "metadata": {
        "colab": {
          "base_uri": "https://localhost:8080/",
          "height": 473
        },
        "id": "cGkIPQX6a_-w",
        "outputId": "48b3e46d-e628-4223-fdb9-c47eb9b5ab5d"
      },
      "execution_count": 68,
      "outputs": [
        {
          "output_type": "stream",
          "name": "stdout",
          "text": [
            "              precision    recall  f1-score   support\n",
            "\n",
            "    BUSINESS       0.75      0.92      0.83       267\n",
            "       CRIME       0.89      0.92      0.91       290\n",
            "     SCIENCE       0.93      0.79      0.85       269\n",
            "      SPORTS       0.92      0.84      0.88       279\n",
            "\n",
            "    accuracy                           0.87      1105\n",
            "   macro avg       0.87      0.87      0.87      1105\n",
            "weighted avg       0.88      0.87      0.87      1105\n",
            "\n"
          ]
        },
        {
          "output_type": "execute_result",
          "data": {
            "text/plain": [
              "<matplotlib.axes._subplots.AxesSubplot at 0x7f658ed969d0>"
            ]
          },
          "metadata": {},
          "execution_count": 68
        },
        {
          "output_type": "display_data",
          "data": {
            "text/plain": [
              "<Figure size 432x288 with 2 Axes>"
            ],
            "image/png": "[encoded data removed]"
          },
          "metadata": {
            "needs_background": "light"
          }
        }
      ]
    },
    {
      "cell_type": "code",
      "source": [
        "from sklearn.pipeline import Pipeline\n",
        "\n",
        "clf = Pipeline([\n",
        "    ('co',CountVectorizer(ngram_range=(1,2))),\n",
        "    ('nv',MultinomialNB())\n",
        "])\n",
        "\n",
        "clf.fit(X,Y)\n",
        "y_pr = clf.predict(x)\n",
        "\n",
        "cm = confusion_matrix(y,y_pr)\n",
        "\n",
        "print(classification_report(y,y_pr))\n",
        "\n",
        "sns.heatmap(cm , annot=True)"
      ],
      "metadata": {
        "colab": {
          "base_uri": "https://localhost:8080/",
          "height": 473
        },
        "id": "N81NVVj2c_Wo",
        "outputId": "7af72eac-c4ab-4030-82a6-6fea0cae07ae"
      },
      "execution_count": 69,
      "outputs": [
        {
          "output_type": "stream",
          "name": "stdout",
          "text": [
            "              precision    recall  f1-score   support\n",
            "\n",
            "    BUSINESS       0.68      0.94      0.79       267\n",
            "       CRIME       0.92      0.91      0.92       290\n",
            "     SCIENCE       0.93      0.74      0.82       269\n",
            "      SPORTS       0.94      0.79      0.86       279\n",
            "\n",
            "    accuracy                           0.85      1105\n",
            "   macro avg       0.87      0.84      0.85      1105\n",
            "weighted avg       0.87      0.85      0.85      1105\n",
            "\n"
          ]
        },
        {
          "output_type": "execute_result",
          "data": {
            "text/plain": [
              "<matplotlib.axes._subplots.AxesSubplot at 0x7f658ece9b90>"
            ]
          },
          "metadata": {},
          "execution_count": 69
        },
        {
          "output_type": "display_data",
          "data": {
            "text/plain": [
              "<Figure size 432x288 with 2 Axes>"
            ],
            "image/png": "[encoded data removed]"
          },
          "metadata": {
            "needs_background": "light"
          }
        }
      ]
    },
    {
      "cell_type": "code",
      "source": [
        "from sklearn.pipeline import Pipeline\n",
        "\n",
        "clf = Pipeline([\n",
        "    ('co',CountVectorizer(ngram_range=(2,2))),\n",
        "    ('nv',MultinomialNB())\n",
        "])\n",
        "\n",
        "clf.fit(X,Y)\n",
        "y_pr = clf.predict(x)\n",
        "\n",
        "cm = confusion_matrix(y,y_pr)\n",
        "\n",
        "print(classification_report(y,y_pr))\n",
        "\n",
        "sns.heatmap(cm , annot=True)"
      ],
      "metadata": {
        "colab": {
          "base_uri": "https://localhost:8080/",
          "height": 476
        },
        "id": "m2KEc_ZedH09",
        "outputId": "112d0f08-7c66-48bd-a7cd-27cb867b2fb5"
      },
      "execution_count": 70,
      "outputs": [
        {
          "output_type": "stream",
          "name": "stdout",
          "text": [
            "              precision    recall  f1-score   support\n",
            "\n",
            "    BUSINESS       0.58      0.85      0.69       267\n",
            "       CRIME       0.84      0.77      0.80       290\n",
            "     SCIENCE       0.76      0.67      0.71       269\n",
            "      SPORTS       0.83      0.64      0.72       279\n",
            "\n",
            "    accuracy                           0.73      1105\n",
            "   macro avg       0.75      0.73      0.73      1105\n",
            "weighted avg       0.76      0.73      0.73      1105\n",
            "\n"
          ]
        },
        {
          "output_type": "execute_result",
          "data": {
            "text/plain": [
              "<matplotlib.axes._subplots.AxesSubplot at 0x7f6592dcc710>"
            ]
          },
          "metadata": {},
          "execution_count": 70
        },
        {
          "output_type": "display_data",
          "data": {
            "text/plain": [
              "<Figure size 432x288 with 2 Axes>"
            ],
            "image/png": "[encoded data removed]"
          },
          "metadata": {
            "needs_background": "light"
          }
        }
      ]
    }
  ]
}