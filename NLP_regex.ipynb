{
  "nbformat": 4,
  "nbformat_minor": 0,
  "metadata": {
    "colab": {
      "provenance": [],
      "authorship_tag": "ABX9TyMOYtNgiyYaLBCoKBev9Cqt",
      "include_colab_link": true
    },
    "kernelspec": {
      "name": "python3",
      "display_name": "Python 3"
    },
    "language_info": {
      "name": "python"
    }
  },
  "cells": [
    {
      "cell_type": "markdown",
      "metadata": {
        "id": "view-in-github",
        "colab_type": "text"
      },
      "source": [
        "<a href=\"https://colab.research.google.com/github/AhmadAlabrash/NLP/blob/main/NLP_regex.ipynb\" target=\"_parent\"><img src=\"https://colab.research.google.com/assets/colab-badge.svg\" alt=\"Open In Colab\"/></a>"
      ]
    },
    {
      "cell_type": "code",
      "execution_count": 67,
      "metadata": {
        "id": "iNGdrcOKxIdE"
      },
      "outputs": [],
      "source": [
        "import re\n",
        "\n",
        "chat1='codebasics: Hello, I am having an issue with my order # 412889912'"
      ]
    },
    {
      "cell_type": "code",
      "source": [
        "x =re.findall('order[^\\d]*(\\d{1,})',chat1)\n",
        "int(x[0])"
      ],
      "metadata": {
        "colab": {
          "base_uri": "https://localhost:8080/"
        },
        "id": "PRDMiXOB7wuf",
        "outputId": "94d0ac0b-b344-4c4c-9fdd-704c863941cd"
      },
      "execution_count": 69,
      "outputs": [
        {
          "output_type": "execute_result",
          "data": {
            "text/plain": [
              "412889912"
            ]
          },
          "metadata": {},
          "execution_count": 69
        }
      ]
    },
    {
      "cell_type": "code",
      "source": [
        "chat1 = 'codebasics: you ask lot of questions 😠  1235678912, abc@xyz.com'\n",
        "chat2 = 'codebasics: here it is: (123)-567-8912, abc@xyz.com'\n",
        "chat3 = 'codebasics: yes, phone: 1235678912 email: abc@xyz.com'\n",
        "ch=[chat1,chat2,chat3]"
      ],
      "metadata": {
        "id": "2HM-nDPK0gq5"
      },
      "execution_count": 70,
      "outputs": []
    },
    {
      "cell_type": "code",
      "source": [
        "pattern = '(\\d{10})|(\\(\\d{3}\\)\\-\\d{3}\\-\\d{4})'\n",
        "\n",
        "for i in range(3):\n",
        " print(re.findall(pattern, ch[i])[0])"
      ],
      "metadata": {
        "colab": {
          "base_uri": "https://localhost:8080/"
        },
        "id": "x6sYv0_G9x7l",
        "outputId": "f7ca8c12-d21c-40da-a404-1ab23e3b90f5"
      },
      "execution_count": 73,
      "outputs": [
        {
          "output_type": "stream",
          "name": "stdout",
          "text": [
            "('1235678912', '')\n",
            "('', '(123)-567-8912')\n",
            "('1235678912', '')\n"
          ]
        }
      ]
    },
    {
      "cell_type": "code",
      "source": [
        "\n",
        "pattern = '[A-z0-9]*\\@[A-z0-9]*\\.[A-z0-9]{3}'\n",
        "\n",
        "for i in range(3):\n",
        "\n",
        " print(re.findall(pattern, ch[i]))"
      ],
      "metadata": {
        "colab": {
          "base_uri": "https://localhost:8080/"
        },
        "id": "0UIGqltK1-eP",
        "outputId": "6529241e-8df8-4bbb-8820-3db233a25af8"
      },
      "execution_count": 74,
      "outputs": [
        {
          "output_type": "stream",
          "name": "stdout",
          "text": [
            "['abc@xyz.com']\n",
            "['abc@xyz.com']\n",
            "['abc@xyz.com']\n"
          ]
        }
      ]
    },
    {
      "cell_type": "code",
      "source": [
        "text = '''\n",
        "Born\tMukesh Dhirubhai Ambani\n",
        "19 April 1957 (age 64)\n",
        "Aden, Colony of Aden\n",
        "(present-day Yemen)[1][2]\n",
        "Nationality\tIndian\n",
        "Alma mater\t\n",
        "St. Xavier's College, Mumbai\n",
        "Institute of Chemical Technology (B.E.)\n",
        "Stanford University (drop-out)\n",
        "Occupation\tChairman and MD, Reliance Industries\n",
        "Spouse(s)\tNita Ambani ​(m. 1985)​[3]\n",
        "Children\t3\n",
        "Parent(s)\t\n",
        "Dhirubhai Ambani (father)\n",
        "Kokilaben Ambani (mother)\n",
        "Relatives\tAnil Ambani (brother)\n",
        "Tina Ambani (sister-in-law)\n",
        "'''"
      ],
      "metadata": {
        "id": "nvxt3cef2ceb"
      },
      "execution_count": 33,
      "outputs": []
    },
    {
      "cell_type": "code",
      "source": [
        "def get_info(txt):\n",
        " name = 'Born(.*)\\n'\n",
        " age = 'age\\s*(\\d*)'\n",
        " birthd ='(.*)\\(age'\n",
        " birthp ='age.*\\)[r\\n]([^\\r\\n]*)'\n",
        "\n",
        " x=[name,age,birthd,birthp]\n",
        " y=['name : ','age : ','birthd : ','birthp : ']\n",
        " for i in range(len(x)):\n",
        "  \n",
        "  print()\n",
        "  print(f'{y[i]} ==> {(re.findall(x[i], txt))[0]}')"
      ],
      "metadata": {
        "id": "2kwWv7s95Tvc"
      },
      "execution_count": 75,
      "outputs": []
    },
    {
      "cell_type": "code",
      "source": [
        "get_info(text)"
      ],
      "metadata": {
        "colab": {
          "base_uri": "https://localhost:8080/"
        },
        "id": "lJqFLPha9Kxk",
        "outputId": "5f427829-7df3-4026-e573-857cbd5f6610"
      },
      "execution_count": 76,
      "outputs": [
        {
          "output_type": "stream",
          "name": "stdout",
          "text": [
            "\n",
            "name :  ==> \tElon Reeve Musk\n",
            "\n",
            "age :  ==> 50\n",
            "\n",
            "birthd :  ==> June 28, 1971 \n",
            "\n",
            "birthp :  ==> Pretoria, Transvaal, South Africa\n"
          ]
        }
      ]
    },
    {
      "cell_type": "code",
      "source": [
        "text='''\n",
        "Born\tElon Reeve Musk\n",
        "June 28, 1971 (age 50)\n",
        "Pretoria, Transvaal, South Africa\n",
        "Citizenship\t\n",
        "South Africa (1971–present)\n",
        "Canada (1971–present)\n",
        "United States (2002–present)\n",
        "Education\tUniversity of Pennsylvania (BS, BA)\n",
        "Title\t\n",
        "Founder, CEO and Chief Engineer of SpaceX\n",
        "CEO and product architect of Tesla, Inc.\n",
        "Founder of The Boring Company and X.com (now part of PayPal)\n",
        "Co-founder of Neuralink, OpenAI, and Zip2\n",
        "Spouse(s)\t\n",
        "Justine Wilson\n",
        "​\n",
        "​(m. 2000; div. 2008)​\n",
        "Talulah Riley\n",
        "​\n",
        "​(m. 2010; div. 2012)​\n",
        "​\n",
        "​(m. 2013; div. 2016)\n",
        "'''\n",
        "\n",
        "get_info(text)"
      ],
      "metadata": {
        "colab": {
          "base_uri": "https://localhost:8080/"
        },
        "id": "Xbtg0YTV_T9q",
        "outputId": "6499fc2c-2437-47da-b55d-1a3a15d85656"
      },
      "execution_count": 65,
      "outputs": [
        {
          "output_type": "stream",
          "name": "stdout",
          "text": [
            "\n",
            "name :  ==> \tElon Reeve Musk\n",
            "\n",
            "age :  ==> 50\n",
            "\n",
            "birthd :  ==> June 28, 1971 \n",
            "\n",
            "birthp :  ==> Pretoria, Transvaal, South Africa\n"
          ]
        }
      ]
    }
  ]
}