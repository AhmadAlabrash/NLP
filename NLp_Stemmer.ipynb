{
  "nbformat": 4,
  "nbformat_minor": 0,
  "metadata": {
    "colab": {
      "provenance": [],
      "authorship_tag": "ABX9TyNNo4ms8k4nGpCNW5UiCGXq",
      "include_colab_link": true
    },
    "kernelspec": {
      "name": "python3",
      "display_name": "Python 3"
    },
    "language_info": {
      "name": "python"
    }
  },
  "cells": [
    {
      "cell_type": "markdown",
      "metadata": {
        "id": "view-in-github",
        "colab_type": "text"
      },
      "source": [
        "<a href=\"https://colab.research.google.com/github/AhmadAlabrash/NLP/blob/main/NLp_Stemmer.ipynb\" target=\"_parent\"><img src=\"https://colab.research.google.com/assets/colab-badge.svg\" alt=\"Open In Colab\"/></a>"
      ]
    },
    {
      "cell_type": "code",
      "execution_count": 1,
      "metadata": {
        "id": "iTIhIIIhm8gW"
      },
      "outputs": [],
      "source": [
        "import nltk\n",
        "import spacy"
      ]
    },
    {
      "cell_type": "code",
      "source": [
        "ste = nltk.stem.PorterStemmer()"
      ],
      "metadata": {
        "id": "IL8pHB_mnxEm"
      },
      "execution_count": 2,
      "outputs": []
    },
    {
      "cell_type": "code",
      "source": [
        "words = [\"eating\", \"eats\", \"eat\", \"ate\", \"adjustable\", \"rafting\", \"ability\", \"meeting\"]\n",
        "\n",
        "for word in words:\n",
        " print(ste.stem(word))"
      ],
      "metadata": {
        "colab": {
          "base_uri": "https://localhost:8080/"
        },
        "id": "QT6oVCqCoHxP",
        "outputId": "42b850e4-05b4-4fd9-808f-dbfa3b99e75d"
      },
      "execution_count": 3,
      "outputs": [
        {
          "output_type": "stream",
          "name": "stdout",
          "text": [
            "eat\n",
            "eat\n",
            "eat\n",
            "ate\n",
            "adjust\n",
            "raft\n",
            "abil\n",
            "meet\n"
          ]
        }
      ]
    },
    {
      "cell_type": "code",
      "source": [
        "#custom lemma\n",
        "nlp = spacy.load(\"en_core_web_sm\")\n",
        "\n",
        "ar = nlp.get_pipe('attribute_ruler')\n",
        "\n",
        "ar.add([[{\"TEXT\":\"Bro\"}],[{\"TEXT\":\"Brah\"}]],{\"LEMMA\":\"Brother\"})\n",
        "\n",
        "doc = nlp(\"Bro, you wanna go? Brah, don't say no! I am exhausted\")\n",
        "for token in doc:\n",
        "    print(token.text, \"|\", token.lemma_)"
      ],
      "metadata": {
        "colab": {
          "base_uri": "https://localhost:8080/"
        },
        "id": "jz6kE2MQoiw_",
        "outputId": "5ae55901-8489-480c-b027-eb6eab9784c4"
      },
      "execution_count": 4,
      "outputs": [
        {
          "output_type": "stream",
          "name": "stdout",
          "text": [
            "Bro | Brother\n",
            ", | ,\n",
            "you | you\n",
            "wanna | wanna\n",
            "go | go\n",
            "? | ?\n",
            "Brah | Brother\n",
            ", | ,\n",
            "do | do\n",
            "n't | not\n",
            "say | say\n",
            "no | no\n",
            "! | !\n",
            "I | I\n",
            "am | be\n",
            "exhausted | exhaust\n"
          ]
        }
      ]
    },
    {
      "cell_type": "code",
      "source": [
        "import nltk \n"
      ],
      "metadata": {
        "id": "0NC2Cy6PbK3O"
      },
      "execution_count": 5,
      "outputs": []
    },
    {
      "cell_type": "code",
      "source": [
        "s = nltk.stem.PorterStemmer()"
      ],
      "metadata": {
        "id": "2MpWHYClbN89"
      },
      "execution_count": 6,
      "outputs": []
    },
    {
      "cell_type": "code",
      "source": [
        "words = [\"eating\", \"eats\", \"eat\", \"ate\", \"adjustable\", \"rafting\", \"ability\", \"meeting\"]\n",
        "for w in words :\n",
        "  print(s.stem(w))"
      ],
      "metadata": {
        "colab": {
          "base_uri": "https://localhost:8080/"
        },
        "id": "z-R_HPjAbdoH",
        "outputId": "dbdb2ab9-33ba-4d0b-a2b7-3f5f48b9cb23"
      },
      "execution_count": 9,
      "outputs": [
        {
          "output_type": "stream",
          "name": "stdout",
          "text": [
            "eat\n",
            "eat\n",
            "eat\n",
            "ate\n",
            "adjust\n",
            "raft\n",
            "abil\n",
            "meet\n"
          ]
        }
      ]
    },
    {
      "cell_type": "code",
      "source": [
        "nlp = spacy.load(\"en_core_web_sm\")\n",
        "\n",
        "a=nlp.get_pipe('attribute_ruler')"
      ],
      "metadata": {
        "id": "6VZDw-nWchQT"
      },
      "execution_count": 11,
      "outputs": []
    },
    {
      "cell_type": "code",
      "source": [
        "a.add([[{'TEXT':'Bro'}],[{'TEXT':'Brah'}]],{'LEMMA':'Brother'})"
      ],
      "metadata": {
        "id": "5uNZtAEydP2o"
      },
      "execution_count": 13,
      "outputs": []
    },
    {
      "cell_type": "code",
      "source": [
        "doc = nlp(\"Bro, you wanna going? Brah, don't say no! I am exhausted\")\n",
        "for word in doc :\n",
        "  print(word.text,word.lemma_,word.is_stop)"
      ],
      "metadata": {
        "colab": {
          "base_uri": "https://localhost:8080/"
        },
        "id": "htYm8ZfkfjSG",
        "outputId": "6104f1ea-2b24-40b4-8777-cad4d675d386"
      },
      "execution_count": 17,
      "outputs": [
        {
          "output_type": "stream",
          "name": "stdout",
          "text": [
            "Bro Brother False\n",
            ", , False\n",
            "you you True\n",
            "wanna wanna False\n",
            "going go False\n",
            "? ? False\n",
            "Brah Brother False\n",
            ", , False\n",
            "do do True\n",
            "n't not True\n",
            "say say True\n",
            "no no True\n",
            "! ! False\n",
            "I I True\n",
            "am be True\n",
            "exhausted exhaust False\n"
          ]
        }
      ]
    }
  ]
}