{
  "nbformat": 4,
  "nbformat_minor": 0,
  "metadata": {
    "colab": {
      "provenance": [],
      "authorship_tag": "ABX9TyNEvydvw+2/j+yA3XT/dUoN",
      "include_colab_link": true
    },
    "kernelspec": {
      "name": "python3",
      "display_name": "Python 3"
    },
    "language_info": {
      "name": "python"
    }
  },
  "cells": [
    {
      "cell_type": "markdown",
      "metadata": {
        "id": "view-in-github",
        "colab_type": "text"
      },
      "source": [
        "<a href=\"https://colab.research.google.com/github/AhmadAlabrash/NLP/blob/main/NLP_TF_IDF_Vectorizer.ipynb\" target=\"_parent\"><img src=\"https://colab.research.google.com/assets/colab-badge.svg\" alt=\"Open In Colab\"/></a>"
      ]
    },
    {
      "cell_type": "code",
      "execution_count": 88,
      "metadata": {
        "id": "y8y1it4teARx"
      },
      "outputs": [],
      "source": [
        "import sklearn"
      ]
    },
    {
      "cell_type": "code",
      "source": [
        "corpus = [\n",
        "    \"Thor eating pizza, Loki is eating pizza, Ironman ate pizza already\",\n",
        "    \"Apple is announcing new iphone tomorrow\",\n",
        "    \"Tesla is announcing new model-3 tomorrow\",\n",
        "    \"Google is announcing new pixel-6 tomorrow\",\n",
        "    \"Microsoft is announcing new surface tomorrow\",\n",
        "    \"Amazon is announcing new eco-dot tomorrow\",\n",
        "    \"I am eating biryani and you are eating grapes\"\n",
        "]"
      ],
      "metadata": {
        "id": "2FM5NUYSjZ8e"
      },
      "execution_count": 89,
      "outputs": []
    },
    {
      "cell_type": "code",
      "source": [
        "from sklearn.feature_extraction.text import TfidfVectorizer\n",
        "\n",
        "v =TfidfVectorizer()\n",
        "v.fit_transform(corpus)\n",
        "\n",
        "v.idf_[25]"
      ],
      "metadata": {
        "colab": {
          "base_uri": "https://localhost:8080/"
        },
        "id": "RZy604P5jbRf",
        "outputId": "2b2ac0a4-3d67-4f6a-ffff-929506f8d99b"
      },
      "execution_count": 90,
      "outputs": [
        {
          "output_type": "execute_result",
          "data": {
            "text/plain": [
              "2.386294361119891"
            ]
          },
          "metadata": {},
          "execution_count": 90
        }
      ]
    },
    {
      "cell_type": "code",
      "source": [
        "words = v.get_feature_names_out()\n",
        "\n",
        "for word in words :\n",
        "  id = v.vocabulary_.get(word)\n",
        "\n",
        "  idf = v.idf_[id]\n",
        "\n",
        "  print(id , '|' , word , '|' , idf)"
      ],
      "metadata": {
        "colab": {
          "base_uri": "https://localhost:8080/"
        },
        "id": "oAxzJ6VRjuyQ",
        "outputId": "27e86b4d-a534-4854-ab98-defd7f6070a1"
      },
      "execution_count": 91,
      "outputs": [
        {
          "output_type": "stream",
          "name": "stdout",
          "text": [
            "0 | already | 2.386294361119891\n",
            "1 | am | 2.386294361119891\n",
            "2 | amazon | 2.386294361119891\n",
            "3 | and | 2.386294361119891\n",
            "4 | announcing | 1.2876820724517808\n",
            "5 | apple | 2.386294361119891\n",
            "6 | are | 2.386294361119891\n",
            "7 | ate | 2.386294361119891\n",
            "8 | biryani | 2.386294361119891\n",
            "9 | dot | 2.386294361119891\n",
            "10 | eating | 1.9808292530117262\n",
            "11 | eco | 2.386294361119891\n",
            "12 | google | 2.386294361119891\n",
            "13 | grapes | 2.386294361119891\n",
            "14 | iphone | 2.386294361119891\n",
            "15 | ironman | 2.386294361119891\n",
            "16 | is | 1.1335313926245225\n",
            "17 | loki | 2.386294361119891\n",
            "18 | microsoft | 2.386294361119891\n",
            "19 | model | 2.386294361119891\n",
            "20 | new | 1.2876820724517808\n",
            "21 | pixel | 2.386294361119891\n",
            "22 | pizza | 2.386294361119891\n",
            "23 | surface | 2.386294361119891\n",
            "24 | tesla | 2.386294361119891\n",
            "25 | thor | 2.386294361119891\n",
            "26 | tomorrow | 1.2876820724517808\n",
            "27 | you | 2.386294361119891\n"
          ]
        }
      ]
    },
    {
      "cell_type": "code",
      "source": [
        "import pandas as pd\n",
        "\n",
        "df = pd.read_csv(\"/content/ecommerceDataset.csv\",names=['category','contents'])\n",
        "\n",
        "df"
      ],
      "metadata": {
        "colab": {
          "base_uri": "https://localhost:8080/",
          "height": 424
        },
        "id": "uiJtrpCOpR14",
        "outputId": "fdb6e837-d744-4edf-b14e-23d20dcee2b5"
      },
      "execution_count": 92,
      "outputs": [
        {
          "output_type": "execute_result",
          "data": {
            "text/plain": [
              "          category                                           contents\n",
              "0        Household  Paper Plane Design Framed Wall Hanging Motivat...\n",
              "1        Household  SAF 'Floral' Framed Painting (Wood, 30 inch x ...\n",
              "2        Household  SAF 'UV Textured Modern Art Print Framed' Pain...\n",
              "3        Household  SAF Flower Print Framed Painting (Synthetic, 1...\n",
              "4        Household  Incredible Gifts India Wooden Happy Birthday U...\n",
              "...            ...                                                ...\n",
              "50420  Electronics  Strontium MicroSD Class 10 8GB Memory Card (Bl...\n",
              "50421  Electronics  CrossBeats Wave Waterproof Bluetooth Wireless ...\n",
              "50422  Electronics  Karbonn Titanium Wind W4 (White) Karbonn Titan...\n",
              "50423  Electronics  Samsung Guru FM Plus (SM-B110E/D, Black) Colou...\n",
              "50424  Electronics                   Micromax Canvas Win W121 (White)\n",
              "\n",
              "[50425 rows x 2 columns]"
            ],
            "text/html": [
              "\n",
              "  <div id=\"df-57310476-87da-4dd6-a0fe-31bbd096dd4d\">\n",
              "    <div class=\"colab-df-container\">\n",
              "      <div>\n",
              "<style scoped>\n",
              "    .dataframe tbody tr th:only-of-type {\n",
              "        vertical-align: middle;\n",
              "    }\n",
              "\n",
              "    .dataframe tbody tr th {\n",
              "        vertical-align: top;\n",
              "    }\n",
              "\n",
              "    .dataframe thead th {\n",
              "        text-align: right;\n",
              "    }\n",
              "</style>\n",
              "<table border=\"1\" class=\"dataframe\">\n",
              "  <thead>\n",
              "    <tr style=\"text-align: right;\">\n",
              "      <th></th>\n",
              "      <th>category</th>\n",
              "      <th>contents</th>\n",
              "    </tr>\n",
              "  </thead>\n",
              "  <tbody>\n",
              "    <tr>\n",
              "      <th>0</th>\n",
              "      <td>Household</td>\n",
              "      <td>Paper Plane Design Framed Wall Hanging Motivat...</td>\n",
              "    </tr>\n",
              "    <tr>\n",
              "      <th>1</th>\n",
              "      <td>Household</td>\n",
              "      <td>SAF 'Floral' Framed Painting (Wood, 30 inch x ...</td>\n",
              "    </tr>\n",
              "    <tr>\n",
              "      <th>2</th>\n",
              "      <td>Household</td>\n",
              "      <td>SAF 'UV Textured Modern Art Print Framed' Pain...</td>\n",
              "    </tr>\n",
              "    <tr>\n",
              "      <th>3</th>\n",
              "      <td>Household</td>\n",
              "      <td>SAF Flower Print Framed Painting (Synthetic, 1...</td>\n",
              "    </tr>\n",
              "    <tr>\n",
              "      <th>4</th>\n",
              "      <td>Household</td>\n",
              "      <td>Incredible Gifts India Wooden Happy Birthday U...</td>\n",
              "    </tr>\n",
              "    <tr>\n",
              "      <th>...</th>\n",
              "      <td>...</td>\n",
              "      <td>...</td>\n",
              "    </tr>\n",
              "    <tr>\n",
              "      <th>50420</th>\n",
              "      <td>Electronics</td>\n",
              "      <td>Strontium MicroSD Class 10 8GB Memory Card (Bl...</td>\n",
              "    </tr>\n",
              "    <tr>\n",
              "      <th>50421</th>\n",
              "      <td>Electronics</td>\n",
              "      <td>CrossBeats Wave Waterproof Bluetooth Wireless ...</td>\n",
              "    </tr>\n",
              "    <tr>\n",
              "      <th>50422</th>\n",
              "      <td>Electronics</td>\n",
              "      <td>Karbonn Titanium Wind W4 (White) Karbonn Titan...</td>\n",
              "    </tr>\n",
              "    <tr>\n",
              "      <th>50423</th>\n",
              "      <td>Electronics</td>\n",
              "      <td>Samsung Guru FM Plus (SM-B110E/D, Black) Colou...</td>\n",
              "    </tr>\n",
              "    <tr>\n",
              "      <th>50424</th>\n",
              "      <td>Electronics</td>\n",
              "      <td>Micromax Canvas Win W121 (White)</td>\n",
              "    </tr>\n",
              "  </tbody>\n",
              "</table>\n",
              "<p>50425 rows × 2 columns</p>\n",
              "</div>\n",
              "      <button class=\"colab-df-convert\" onclick=\"convertToInteractive('df-57310476-87da-4dd6-a0fe-31bbd096dd4d')\"\n",
              "              title=\"Convert this dataframe to an interactive table.\"\n",
              "              style=\"display:none;\">\n",
              "        \n",
              "  <svg xmlns=\"http://www.w3.org/2000/svg\" height=\"24px\"viewBox=\"0 0 24 24\"\n",
              "       width=\"24px\">\n",
              "    <path d=\"M0 0h24v24H0V0z\" fill=\"none\"/>\n",
              "    <path d=\"M18.56 5.44l.94 2.06.94-2.06 2.06-.94-2.06-.94-.94-2.06-.94 2.06-2.06.94zm-11 1L8.5 8.5l.94-2.06 2.06-.94-2.06-.94L8.5 2.5l-.94 2.06-2.06.94zm10 10l.94 2.06.94-2.06 2.06-.94-2.06-.94-.94-2.06-.94 2.06-2.06.94z\"/><path d=\"M17.41 7.96l-1.37-1.37c-.4-.4-.92-.59-1.43-.59-.52 0-1.04.2-1.43.59L10.3 9.45l-7.72 7.72c-.78.78-.78 2.05 0 2.83L4 21.41c.39.39.9.59 1.41.59.51 0 1.02-.2 1.41-.59l7.78-7.78 2.81-2.81c.8-.78.8-2.07 0-2.86zM5.41 20L4 18.59l7.72-7.72 1.47 1.35L5.41 20z\"/>\n",
              "  </svg>\n",
              "      </button>\n",
              "      \n",
              "  <style>\n",
              "    .colab-df-container {\n",
              "      display:flex;\n",
              "      flex-wrap:wrap;\n",
              "      gap: 12px;\n",
              "    }\n",
              "\n",
              "    .colab-df-convert {\n",
              "      background-color: #E8F0FE;\n",
              "      border: none;\n",
              "      border-radius: 50%;\n",
              "      cursor: pointer;\n",
              "      display: none;\n",
              "      fill: #1967D2;\n",
              "      height: 32px;\n",
              "      padding: 0 0 0 0;\n",
              "      width: 32px;\n",
              "    }\n",
              "\n",
              "    .colab-df-convert:hover {\n",
              "      background-color: #E2EBFA;\n",
              "      box-shadow: 0px 1px 2px rgba(60, 64, 67, 0.3), 0px 1px 3px 1px rgba(60, 64, 67, 0.15);\n",
              "      fill: #174EA6;\n",
              "    }\n",
              "\n",
              "    [theme=dark] .colab-df-convert {\n",
              "      background-color: #3B4455;\n",
              "      fill: #D2E3FC;\n",
              "    }\n",
              "\n",
              "    [theme=dark] .colab-df-convert:hover {\n",
              "      background-color: #434B5C;\n",
              "      box-shadow: 0px 1px 3px 1px rgba(0, 0, 0, 0.15);\n",
              "      filter: drop-shadow(0px 1px 2px rgba(0, 0, 0, 0.3));\n",
              "      fill: #FFFFFF;\n",
              "    }\n",
              "  </style>\n",
              "\n",
              "      <script>\n",
              "        const buttonEl =\n",
              "          document.querySelector('#df-57310476-87da-4dd6-a0fe-31bbd096dd4d button.colab-df-convert');\n",
              "        buttonEl.style.display =\n",
              "          google.colab.kernel.accessAllowed ? 'block' : 'none';\n",
              "\n",
              "        async function convertToInteractive(key) {\n",
              "          const element = document.querySelector('#df-57310476-87da-4dd6-a0fe-31bbd096dd4d');\n",
              "          const dataTable =\n",
              "            await google.colab.kernel.invokeFunction('convertToInteractive',\n",
              "                                                     [key], {});\n",
              "          if (!dataTable) return;\n",
              "\n",
              "          const docLinkHtml = 'Like what you see? Visit the ' +\n",
              "            '<a target=\"_blank\" href=https://colab.research.google.com/notebooks/data_table.ipynb>data table notebook</a>'\n",
              "            + ' to learn more about interactive tables.';\n",
              "          element.innerHTML = '';\n",
              "          dataTable['output_type'] = 'display_data';\n",
              "          await google.colab.output.renderOutput(dataTable, element);\n",
              "          const docLink = document.createElement('div');\n",
              "          docLink.innerHTML = docLinkHtml;\n",
              "          element.appendChild(docLink);\n",
              "        }\n",
              "      </script>\n",
              "    </div>\n",
              "  </div>\n",
              "  "
            ]
          },
          "metadata": {},
          "execution_count": 92
        }
      ]
    },
    {
      "cell_type": "code",
      "source": [
        "df.category.value_counts()"
      ],
      "metadata": {
        "colab": {
          "base_uri": "https://localhost:8080/"
        },
        "id": "6bdfJIPowkwJ",
        "outputId": "c9f78ba3-68dc-42b5-f1dc-080dec9ab22b"
      },
      "execution_count": 93,
      "outputs": [
        {
          "output_type": "execute_result",
          "data": {
            "text/plain": [
              "Household                 19313\n",
              "Books                     11820\n",
              "Electronics               10621\n",
              "Clothing & Accessories     8671\n",
              "Name: category, dtype: int64"
            ]
          },
          "metadata": {},
          "execution_count": 93
        }
      ]
    },
    {
      "cell_type": "code",
      "source": [
        "df['cate_num'] = df.category.map({\n",
        "    'Household':0 ,\n",
        "    'Books':1,\n",
        "    'Electronics':2,\n",
        "    'Clothing & Accessories':3\n",
        "})"
      ],
      "metadata": {
        "id": "RDSCxeETwV6t"
      },
      "execution_count": 94,
      "outputs": []
    },
    {
      "cell_type": "code",
      "source": [
        "df = df.dropna()"
      ],
      "metadata": {
        "id": "lZGqa6BHxAfg"
      },
      "execution_count": 95,
      "outputs": []
    },
    {
      "cell_type": "code",
      "source": [
        "from sklearn.model_selection import train_test_split\n",
        "\n",
        "x_train, x_test, y_train, y_test = train_test_split(\n",
        "    df.contents, \n",
        "    df.cate_num, \n",
        "    test_size=0.2,)"
      ],
      "metadata": {
        "id": "XWO_kAuKqN-u"
      },
      "execution_count": 96,
      "outputs": []
    },
    {
      "cell_type": "code",
      "source": [
        "import seaborn as sns \n",
        "from sklearn.feature_extraction.text import TfidfVectorizer\n",
        "from sklearn.neighbors import KNeighborsClassifier\n",
        "from sklearn.metrics import classification_report\n",
        "from sklearn.metrics import confusion_matrix\n",
        "from sklearn.pipeline import Pipeline"
      ],
      "metadata": {
        "id": "encLilEoqVvl"
      },
      "execution_count": 97,
      "outputs": []
    },
    {
      "cell_type": "code",
      "source": [
        "x_train"
      ],
      "metadata": {
        "colab": {
          "base_uri": "https://localhost:8080/"
        },
        "id": "oNkXiC1mv6Md",
        "outputId": "7fae64a3-aecf-42ae-d362-c7b5e2c9cac7"
      },
      "execution_count": 98,
      "outputs": [
        {
          "output_type": "execute_result",
          "data": {
            "text/plain": [
              "22723    Review of PGI Chandigarh Post Graduate Medical...\n",
              "23685    Sapiens: A Brief History of Humankind Review \"...\n",
              "6765     HOKIPO Wooden Dinner Table Kitchen Placemats S...\n",
              "28795    Foundations of Periodontics for the Dental Hyg...\n",
              "18429    Glare Laser Glare Fruit & Vegetable Knives Mul...\n",
              "                               ...                        \n",
              "27967                             Teach Yourself to Think \n",
              "29825    Anatomy & Drawing The purpose of this book is ...\n",
              "37649    Bold N Elegant Women's Black Comfortable Mater...\n",
              "36475    Fully Pashmina Stoles For Girls And Women For ...\n",
              "33656    Aveeno Baby Wash & Shampoo 18 Ounce Size:18oz ...\n",
              "Name: contents, Length: 40339, dtype: object"
            ]
          },
          "metadata": {},
          "execution_count": 98
        }
      ]
    },
    {
      "cell_type": "code",
      "source": [
        "clf = Pipeline([\n",
        "    ('tfidf',TfidfVectorizer()),\n",
        "    ('kneighbors',KNeighborsClassifier())\n",
        "])\n",
        "clf.fit(x_train,y_train)\n",
        "\n",
        "y_pr = clf.predict(x_test)\n",
        "\n",
        "cm  = confusion_matrix(y_test,y_pr)\n",
        "\n",
        "report = classification_report(y_test,y_pr)\n",
        "\n",
        "print(report)\n",
        "\n",
        "sns.heatmap(cm , annot=True)"
      ],
      "metadata": {
        "colab": {
          "base_uri": "https://localhost:8080/",
          "height": 473
        },
        "id": "UgO_7kz6utYh",
        "outputId": "04843a3c-9dfe-43d4-bdba-afa1e3547b17"
      },
      "execution_count": 99,
      "outputs": [
        {
          "output_type": "stream",
          "name": "stdout",
          "text": [
            "              precision    recall  f1-score   support\n",
            "\n",
            "           0       0.96      0.96      0.96      3923\n",
            "           1       0.96      0.96      0.96      2384\n",
            "           2       0.95      0.94      0.94      2076\n",
            "           3       0.96      0.97      0.97      1702\n",
            "\n",
            "    accuracy                           0.96     10085\n",
            "   macro avg       0.96      0.96      0.96     10085\n",
            "weighted avg       0.96      0.96      0.96     10085\n",
            "\n"
          ]
        },
        {
          "output_type": "execute_result",
          "data": {
            "text/plain": [
              "<matplotlib.axes._subplots.AxesSubplot at 0x7fa9349388d0>"
            ]
          },
          "metadata": {},
          "execution_count": 99
        },
        {
          "output_type": "display_data",
          "data": {
            "text/plain": [
              "<Figure size 432x288 with 2 Axes>"
            ],
            "image/png": "[encoded data removed]"
          },
          "metadata": {
            "needs_background": "light"
          }
        }
      ]
    },
    {
      "cell_type": "code",
      "source": [
        "from sklearn.naive_bayes import MultinomialNB\n",
        "\n",
        "clf = Pipeline([\n",
        "    ('tfidf',TfidfVectorizer()),\n",
        "    ('kneighbors',MultinomialNB())\n",
        "])\n",
        "clf.fit(x_train,y_train)\n",
        "\n",
        "y_pr = clf.predict(x_test)\n",
        "\n",
        "cm  = confusion_matrix(y_test,y_pr)\n",
        "\n",
        "report = classification_report(y_test,y_pr)\n",
        "\n",
        "print(report)\n",
        "\n",
        "sns.heatmap(cm , annot=True)"
      ],
      "metadata": {
        "colab": {
          "base_uri": "https://localhost:8080/",
          "height": 473
        },
        "id": "TJqglA0ayfBl",
        "outputId": "1bd46f27-1279-41fc-c43a-26c497c23867"
      },
      "execution_count": 100,
      "outputs": [
        {
          "output_type": "stream",
          "name": "stdout",
          "text": [
            "              precision    recall  f1-score   support\n",
            "\n",
            "           0       0.90      0.98      0.94      3923\n",
            "           1       0.97      0.92      0.95      2384\n",
            "           2       0.96      0.89      0.93      2076\n",
            "           3       0.98      0.93      0.95      1702\n",
            "\n",
            "    accuracy                           0.94     10085\n",
            "   macro avg       0.95      0.93      0.94     10085\n",
            "weighted avg       0.94      0.94      0.94     10085\n",
            "\n"
          ]
        },
        {
          "output_type": "execute_result",
          "data": {
            "text/plain": [
              "<matplotlib.axes._subplots.AxesSubplot at 0x7fa9350fa690>"
            ]
          },
          "metadata": {},
          "execution_count": 100
        },
        {
          "output_type": "display_data",
          "data": {
            "text/plain": [
              "<Figure size 432x288 with 2 Axes>"
            ],
            "image/png": "[encoded data removed]"
          },
          "metadata": {
            "needs_background": "light"
          }
        }
      ]
    }
  ]
}