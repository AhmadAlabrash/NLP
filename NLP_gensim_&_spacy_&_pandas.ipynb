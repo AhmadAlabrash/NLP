{
  "nbformat": 4,
  "nbformat_minor": 0,
  "metadata": {
    "colab": {
      "provenance": [],
      "authorship_tag": "ABX9TyP3boxGCos9aU0lk2pn99yc",
      "include_colab_link": true
    },
    "kernelspec": {
      "name": "python3",
      "display_name": "Python 3"
    },
    "language_info": {
      "name": "python"
    }
  },
  "cells": [
    {
      "cell_type": "markdown",
      "metadata": {
        "id": "view-in-github",
        "colab_type": "text"
      },
      "source": [
        "<a href=\"https://colab.research.google.com/github/AhmadAlabrash/NLP/blob/main/NLP_gensim_%26_spacy_%26_pandas.ipynb\" target=\"_parent\"><img src=\"https://colab.research.google.com/assets/colab-badge.svg\" alt=\"Open In Colab\"/></a>"
      ]
    },
    {
      "cell_type": "code",
      "execution_count": 1,
      "metadata": {
        "id": "94tfzLOzUgKv"
      },
      "outputs": [],
      "source": [
        "import pandas as pd\n",
        "\n",
        "\n",
        "df = pd.read_csv(\"/content/Fake_Real_Data.csv\")"
      ]
    },
    {
      "cell_type": "code",
      "source": [
        "df['label_num'] = df['label'].map({'Fake' : 0, 'Real': 1})"
      ],
      "metadata": {
        "id": "kW_hwh5xUvbL"
      },
      "execution_count": 2,
      "outputs": []
    },
    {
      "cell_type": "code",
      "source": [
        "df"
      ],
      "metadata": {
        "colab": {
          "base_uri": "https://localhost:8080/",
          "height": 424
        },
        "id": "nT6fDmhiU2MU",
        "outputId": "6eb94728-e2d1-4db4-f098-cb9d5ea28b21"
      },
      "execution_count": 3,
      "outputs": [
        {
          "output_type": "execute_result",
          "data": {
            "text/plain": [
              "                                                   Text label  label_num\n",
              "0      Top Trump Surrogate BRUTALLY Stabs Him In The...  Fake          0\n",
              "1     U.S. conservative leader optimistic of common ...  Real          1\n",
              "2     Trump proposes U.S. tax overhaul, stirs concer...  Real          1\n",
              "3      Court Forces Ohio To Allow Millions Of Illega...  Fake          0\n",
              "4     Democrats say Trump agrees to work on immigrat...  Real          1\n",
              "...                                                 ...   ...        ...\n",
              "9895   Wikileaks Admits To Screwing Up IMMENSELY Wit...  Fake          0\n",
              "9896  Trump consults Republican senators on Fed chie...  Real          1\n",
              "9897  Trump lawyers say judge lacks jurisdiction for...  Real          1\n",
              "9898   WATCH: Right-Wing Pastor Falsely Credits Trum...  Fake          0\n",
              "9899   Sean Spicer HILARIOUSLY Branded As Chickensh*...  Fake          0\n",
              "\n",
              "[9900 rows x 3 columns]"
            ],
            "text/html": [
              "\n",
              "  <div id=\"df-cacba5b4-c622-40b9-a092-d5fa5cc1aff1\">\n",
              "    <div class=\"colab-df-container\">\n",
              "      <div>\n",
              "<style scoped>\n",
              "    .dataframe tbody tr th:only-of-type {\n",
              "        vertical-align: middle;\n",
              "    }\n",
              "\n",
              "    .dataframe tbody tr th {\n",
              "        vertical-align: top;\n",
              "    }\n",
              "\n",
              "    .dataframe thead th {\n",
              "        text-align: right;\n",
              "    }\n",
              "</style>\n",
              "<table border=\"1\" class=\"dataframe\">\n",
              "  <thead>\n",
              "    <tr style=\"text-align: right;\">\n",
              "      <th></th>\n",
              "      <th>Text</th>\n",
              "      <th>label</th>\n",
              "      <th>label_num</th>\n",
              "    </tr>\n",
              "  </thead>\n",
              "  <tbody>\n",
              "    <tr>\n",
              "      <th>0</th>\n",
              "      <td>Top Trump Surrogate BRUTALLY Stabs Him In The...</td>\n",
              "      <td>Fake</td>\n",
              "      <td>0</td>\n",
              "    </tr>\n",
              "    <tr>\n",
              "      <th>1</th>\n",
              "      <td>U.S. conservative leader optimistic of common ...</td>\n",
              "      <td>Real</td>\n",
              "      <td>1</td>\n",
              "    </tr>\n",
              "    <tr>\n",
              "      <th>2</th>\n",
              "      <td>Trump proposes U.S. tax overhaul, stirs concer...</td>\n",
              "      <td>Real</td>\n",
              "      <td>1</td>\n",
              "    </tr>\n",
              "    <tr>\n",
              "      <th>3</th>\n",
              "      <td>Court Forces Ohio To Allow Millions Of Illega...</td>\n",
              "      <td>Fake</td>\n",
              "      <td>0</td>\n",
              "    </tr>\n",
              "    <tr>\n",
              "      <th>4</th>\n",
              "      <td>Democrats say Trump agrees to work on immigrat...</td>\n",
              "      <td>Real</td>\n",
              "      <td>1</td>\n",
              "    </tr>\n",
              "    <tr>\n",
              "      <th>...</th>\n",
              "      <td>...</td>\n",
              "      <td>...</td>\n",
              "      <td>...</td>\n",
              "    </tr>\n",
              "    <tr>\n",
              "      <th>9895</th>\n",
              "      <td>Wikileaks Admits To Screwing Up IMMENSELY Wit...</td>\n",
              "      <td>Fake</td>\n",
              "      <td>0</td>\n",
              "    </tr>\n",
              "    <tr>\n",
              "      <th>9896</th>\n",
              "      <td>Trump consults Republican senators on Fed chie...</td>\n",
              "      <td>Real</td>\n",
              "      <td>1</td>\n",
              "    </tr>\n",
              "    <tr>\n",
              "      <th>9897</th>\n",
              "      <td>Trump lawyers say judge lacks jurisdiction for...</td>\n",
              "      <td>Real</td>\n",
              "      <td>1</td>\n",
              "    </tr>\n",
              "    <tr>\n",
              "      <th>9898</th>\n",
              "      <td>WATCH: Right-Wing Pastor Falsely Credits Trum...</td>\n",
              "      <td>Fake</td>\n",
              "      <td>0</td>\n",
              "    </tr>\n",
              "    <tr>\n",
              "      <th>9899</th>\n",
              "      <td>Sean Spicer HILARIOUSLY Branded As Chickensh*...</td>\n",
              "      <td>Fake</td>\n",
              "      <td>0</td>\n",
              "    </tr>\n",
              "  </tbody>\n",
              "</table>\n",
              "<p>9900 rows × 3 columns</p>\n",
              "</div>\n",
              "      <button class=\"colab-df-convert\" onclick=\"convertToInteractive('df-cacba5b4-c622-40b9-a092-d5fa5cc1aff1')\"\n",
              "              title=\"Convert this dataframe to an interactive table.\"\n",
              "              style=\"display:none;\">\n",
              "        \n",
              "  <svg xmlns=\"http://www.w3.org/2000/svg\" height=\"24px\"viewBox=\"0 0 24 24\"\n",
              "       width=\"24px\">\n",
              "    <path d=\"M0 0h24v24H0V0z\" fill=\"none\"/>\n",
              "    <path d=\"M18.56 5.44l.94 2.06.94-2.06 2.06-.94-2.06-.94-.94-2.06-.94 2.06-2.06.94zm-11 1L8.5 8.5l.94-2.06 2.06-.94-2.06-.94L8.5 2.5l-.94 2.06-2.06.94zm10 10l.94 2.06.94-2.06 2.06-.94-2.06-.94-.94-2.06-.94 2.06-2.06.94z\"/><path d=\"M17.41 7.96l-1.37-1.37c-.4-.4-.92-.59-1.43-.59-.52 0-1.04.2-1.43.59L10.3 9.45l-7.72 7.72c-.78.78-.78 2.05 0 2.83L4 21.41c.39.39.9.59 1.41.59.51 0 1.02-.2 1.41-.59l7.78-7.78 2.81-2.81c.8-.78.8-2.07 0-2.86zM5.41 20L4 18.59l7.72-7.72 1.47 1.35L5.41 20z\"/>\n",
              "  </svg>\n",
              "      </button>\n",
              "      \n",
              "  <style>\n",
              "    .colab-df-container {\n",
              "      display:flex;\n",
              "      flex-wrap:wrap;\n",
              "      gap: 12px;\n",
              "    }\n",
              "\n",
              "    .colab-df-convert {\n",
              "      background-color: #E8F0FE;\n",
              "      border: none;\n",
              "      border-radius: 50%;\n",
              "      cursor: pointer;\n",
              "      display: none;\n",
              "      fill: #1967D2;\n",
              "      height: 32px;\n",
              "      padding: 0 0 0 0;\n",
              "      width: 32px;\n",
              "    }\n",
              "\n",
              "    .colab-df-convert:hover {\n",
              "      background-color: #E2EBFA;\n",
              "      box-shadow: 0px 1px 2px rgba(60, 64, 67, 0.3), 0px 1px 3px 1px rgba(60, 64, 67, 0.15);\n",
              "      fill: #174EA6;\n",
              "    }\n",
              "\n",
              "    [theme=dark] .colab-df-convert {\n",
              "      background-color: #3B4455;\n",
              "      fill: #D2E3FC;\n",
              "    }\n",
              "\n",
              "    [theme=dark] .colab-df-convert:hover {\n",
              "      background-color: #434B5C;\n",
              "      box-shadow: 0px 1px 3px 1px rgba(0, 0, 0, 0.15);\n",
              "      filter: drop-shadow(0px 1px 2px rgba(0, 0, 0, 0.3));\n",
              "      fill: #FFFFFF;\n",
              "    }\n",
              "  </style>\n",
              "\n",
              "      <script>\n",
              "        const buttonEl =\n",
              "          document.querySelector('#df-cacba5b4-c622-40b9-a092-d5fa5cc1aff1 button.colab-df-convert');\n",
              "        buttonEl.style.display =\n",
              "          google.colab.kernel.accessAllowed ? 'block' : 'none';\n",
              "\n",
              "        async function convertToInteractive(key) {\n",
              "          const element = document.querySelector('#df-cacba5b4-c622-40b9-a092-d5fa5cc1aff1');\n",
              "          const dataTable =\n",
              "            await google.colab.kernel.invokeFunction('convertToInteractive',\n",
              "                                                     [key], {});\n",
              "          if (!dataTable) return;\n",
              "\n",
              "          const docLinkHtml = 'Like what you see? Visit the ' +\n",
              "            '<a target=\"_blank\" href=https://colab.research.google.com/notebooks/data_table.ipynb>data table notebook</a>'\n",
              "            + ' to learn more about interactive tables.';\n",
              "          element.innerHTML = '';\n",
              "          dataTable['output_type'] = 'display_data';\n",
              "          await google.colab.output.renderOutput(dataTable, element);\n",
              "          const docLink = document.createElement('div');\n",
              "          docLink.innerHTML = docLinkHtml;\n",
              "          element.appendChild(docLink);\n",
              "        }\n",
              "      </script>\n",
              "    </div>\n",
              "  </div>\n",
              "  "
            ]
          },
          "metadata": {},
          "execution_count": 3
        }
      ]
    },
    {
      "cell_type": "code",
      "source": [
        "import spacy\n",
        "import spacy.cli\n",
        "spacy.cli.download(\"en_core_web_lg\")\n",
        "nlp = spacy.load(\"en_core_web_lg\")"
      ],
      "metadata": {
        "colab": {
          "base_uri": "https://localhost:8080/"
        },
        "id": "ZwFI8KhxU2FM",
        "outputId": "ec5d1120-2dac-4224-b7d8-027a903439e1"
      },
      "execution_count": 5,
      "outputs": [
        {
          "output_type": "stream",
          "name": "stdout",
          "text": [
            "\u001b[38;5;2m✔ Download and installation successful\u001b[0m\n",
            "You can now load the package via spacy.load('en_core_web_lg')\n"
          ]
        }
      ]
    },
    {
      "cell_type": "code",
      "source": [
        "import gensim.downloader as api\n",
        "wv = api.load('word2vec-google-news-300')"
      ],
      "metadata": {
        "colab": {
          "base_uri": "https://localhost:8080/"
        },
        "id": "wkInj2J6W06Y",
        "outputId": "7c73c0b0-5936-4eec-fb26-0cf0ca671e4e"
      },
      "execution_count": 12,
      "outputs": [
        {
          "metadata": {
            "tags": null
          },
          "name": "stdout",
          "output_type": "stream",
          "text": [
            "[=================================================-] 98.3% 1634.1/1662.8MB downloaded\n"
          ]
        }
      ]
    },
    {
      "cell_type": "code",
      "source": [
        "wv.get_vector('word')"
      ],
      "metadata": {
        "id": "w3TFcAP5boMs"
      },
      "execution_count": null,
      "outputs": []
    },
    {
      "cell_type": "code",
      "source": [
        "wv.get_vector('hi')"
      ],
      "metadata": {
        "id": "ICzkGxNLmnQR"
      },
      "execution_count": null,
      "outputs": []
    },
    {
      "cell_type": "code",
      "source": [
        "fter_process =[]\n",
        "for word in nlp('hi man how are u today word amazonwashingtonpost trumpian trumpian trumpian'):\n",
        "\n",
        "   if word.text not in wv.vocab :\n",
        "     print('e')\n",
        "   else :\n",
        "     print(word)  "
      ],
      "metadata": {
        "colab": {
          "base_uri": "https://localhost:8080/"
        },
        "id": "d0R33E5oeH0t",
        "outputId": "518d7b97-17c7-47b0-9a11-42d0cbe46985"
      },
      "execution_count": 135,
      "outputs": [
        {
          "output_type": "stream",
          "name": "stdout",
          "text": [
            "hi\n",
            "man\n",
            "how\n",
            "are\n",
            "u\n",
            "today\n",
            "word\n",
            "e\n",
            "e\n",
            "e\n",
            "e\n"
          ]
        }
      ]
    },
    {
      "cell_type": "code",
      "source": [
        "import re\n",
        "def clean(text):\n",
        "   # letters_only = re.sub(\"[^a-zA-Z]\",   \" \",   str(text))\n",
        "    text = re.sub(r'[^\\w\\s\\']',' ', text)\n",
        "    text = re.sub(' +', ' ', text)\n",
        "    return text.strip().lower()"
      ],
      "metadata": {
        "id": "ywwH-4830fPO"
      },
      "execution_count": 128,
      "outputs": []
    },
    {
      "cell_type": "code",
      "source": [
        "df.Text =df.Text.apply(clean)"
      ],
      "metadata": {
        "id": "dpNYrlEcu4ig"
      },
      "execution_count": 129,
      "outputs": []
    },
    {
      "cell_type": "code",
      "source": [
        "def check(text):\n",
        "  fter_process =[]\n",
        "  for word in nlp(text):\n",
        "\n",
        "   if word.text not in wv.vocab :\n",
        "     print('e')\n",
        "   else :\n",
        "     fter_process.append(word)  \n",
        "   return ' '.join(str(v) for v in fter_process)  "
      ],
      "metadata": {
        "id": "6-njNBgJ4nN-"
      },
      "execution_count": 144,
      "outputs": []
    },
    {
      "cell_type": "code",
      "source": [
        "df['ch_text'] = df[\"Text\"].apply(lambda x : check(x))"
      ],
      "metadata": {
        "id": "M3SHz_zK5FzJ"
      },
      "execution_count": null,
      "outputs": []
    },
    {
      "cell_type": "code",
      "source": [
        "def preprocess(txt):\n",
        " after_process =[]\n",
        " x =0\n",
        " for word in nlp(txt):\n",
        "    \n",
        "\n",
        "        if  word.is_stop or word.is_punct or word.text == ' ' or word.is_alpha == False :\n",
        "           x= x+1\n",
        "\n",
        "        else :\n",
        "\n",
        "           after_process.append(wv.get_vector(word.lemma_) )   \n",
        "\n",
        "\n",
        " \n",
        " return after_process"
      ],
      "metadata": {
        "id": "z3JHiRiSVqFT"
      },
      "execution_count": 149,
      "outputs": []
    },
    {
      "cell_type": "code",
      "source": [
        "df['vector'] = df['ch_text'].apply(lambda text: preprocess(text))"
      ],
      "metadata": {
        "id": "vC1nRkmQ9aVy"
      },
      "execution_count": null,
      "outputs": []
    },
    {
      "cell_type": "code",
      "source": [
        "from sklearn.model_selection import train_test_split\n",
        "\n",
        "x_train, x_test, y_train, y_test = train_test_split(\n",
        "    df.vector.values, \n",
        "    df.label_num, \n",
        "    test_size=0.2, \n",
        ")"
      ],
      "metadata": {
        "id": "aPJBq6abXDhD"
      },
      "execution_count": 48,
      "outputs": []
    },
    {
      "cell_type": "code",
      "source": [
        "import numpy as np\n",
        "\n",
        "X_train_2d = np.stack(x_train)\n",
        "X_test_2d =  np.stack(x_test)"
      ],
      "metadata": {
        "id": "RP6RopiVYlbt"
      },
      "execution_count": 50,
      "outputs": []
    },
    {
      "cell_type": "code",
      "source": [
        "X_train_2d"
      ],
      "metadata": {
        "colab": {
          "base_uri": "https://localhost:8080/"
        },
        "id": "UAtvBgeFjAj7",
        "outputId": "dcfd72e9-fcbc-4392-ca80-2e9a05d0e421"
      },
      "execution_count": 53,
      "outputs": [
        {
          "output_type": "execute_result",
          "data": {
            "text/plain": [
              "array([], shape=(7920, 0), dtype=float64)"
            ]
          },
          "metadata": {},
          "execution_count": 53
        }
      ]
    },
    {
      "cell_type": "code",
      "source": [
        "from sklearn.ensemble import GradientBoostingClassifier\n",
        "from sklearn.metrics import classification_report\n",
        "\n",
        "# creating a GradientBoosting model object\n",
        "clf = GradientBoostingClassifier()\n",
        "\n",
        "# fit with all_train_embeddings and y_train\n",
        "clf.fit(X_train_2d, y_train)\n",
        "\n",
        "\n",
        "# get the predictions for all_test_embeddings and store it in y_pred\n",
        "y_pred = clf.predict(X_test_2d)\n",
        "\n",
        "\n",
        "# print the classfication report\n",
        "print(classification_report(y_test, y_pred))"
      ],
      "metadata": {
        "id": "q3x3D8Vb9wTF"
      },
      "execution_count": null,
      "outputs": []
    }
  ]
}