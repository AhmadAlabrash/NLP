{
  "nbformat": 4,
  "nbformat_minor": 0,
  "metadata": {
    "colab": {
      "provenance": [],
      "authorship_tag": "ABX9TyPLyQy4rG/myTs4/FGZJIr3",
      "include_colab_link": true
    },
    "kernelspec": {
      "name": "python3",
      "display_name": "Python 3"
    },
    "language_info": {
      "name": "python"
    }
  },
  "cells": [
    {
      "cell_type": "markdown",
      "metadata": {
        "id": "view-in-github",
        "colab_type": "text"
      },
      "source": [
        "<a href=\"https://colab.research.google.com/github/AhmadAlabrash/NLP/blob/main/NLP_transform_dataset_to_vectors.ipynb\" target=\"_parent\"><img src=\"https://colab.research.google.com/assets/colab-badge.svg\" alt=\"Open In Colab\"/></a>"
      ]
    },
    {
      "cell_type": "code",
      "execution_count": 4,
      "metadata": {
        "id": "mRRUoTtVEuPa"
      },
      "outputs": [],
      "source": [
        "import pandas as pd\n",
        "\n",
        "df = pd.read_csv(\"Fake_Real_Data.csv\")"
      ]
    },
    {
      "cell_type": "code",
      "source": [
        "df['label_num'] = df.label.map({\n",
        "    'Fake' : 0 ,\n",
        "    'Real' : 1\n",
        "})"
      ],
      "metadata": {
        "id": "OWXcwDZGE3Kw"
      },
      "execution_count": 5,
      "outputs": []
    },
    {
      "cell_type": "code",
      "source": [
        "import spacy.cli\n",
        "spacy.cli.download(\"en_core_web_lg\")"
      ],
      "metadata": {
        "colab": {
          "base_uri": "https://localhost:8080/"
        },
        "id": "-mb0_tTGFazw",
        "outputId": "13a0c1bf-f5bb-4727-9f6d-b284935a47fc"
      },
      "execution_count": 2,
      "outputs": [
        {
          "output_type": "stream",
          "name": "stdout",
          "text": [
            "\u001b[38;5;2m✔ Download and installation successful\u001b[0m\n",
            "You can now load the package via spacy.load('en_core_web_lg')\n"
          ]
        }
      ]
    },
    {
      "cell_type": "code",
      "source": [
        "import spacy\n",
        "nlp = spacy.load(\"en_core_web_lg\")"
      ],
      "metadata": {
        "id": "GgPBmJynFNna"
      },
      "execution_count": 3,
      "outputs": []
    },
    {
      "cell_type": "code",
      "source": [
        "nlp(df.Text[0]).vector"
      ],
      "metadata": {
        "colab": {
          "base_uri": "https://localhost:8080/"
        },
        "id": "UCGejkxTLnwy",
        "outputId": "ec5408bb-7bde-40b4-ece7-2cefc32fd787"
      },
      "execution_count": 6,
      "outputs": [
        {
          "output_type": "execute_result",
          "data": {
            "text/plain": [
              "array([-0.6759837 ,  1.4263071 , -2.318466  , -0.451093  ,  2.8199325 ,\n",
              "        0.85161996,  0.01045941,  3.6876464 , -1.1069572 , -0.89137274,\n",
              "        4.7383623 ,  0.93590134, -2.4224715 ,  0.1756112 ,  1.1680135 ,\n",
              "        1.358259  ,  0.968191  , -1.223655  , -0.95027757, -0.3604985 ,\n",
              "        0.54369414, -0.48284245, -0.42516926, -1.8079175 , -0.63552403,\n",
              "       -1.7014275 , -1.5113001 , -0.5503619 , -0.78364307,  0.83594626,\n",
              "        0.8964651 , -0.1389701 , -0.7893373 , -0.42614973, -2.1502306 ,\n",
              "       -0.92926306, -0.8751075 ,  0.8984946 ,  1.1605583 ,  1.0838758 ,\n",
              "       -0.04290289,  0.0810288 , -0.04022507,  0.16692582, -1.4921017 ,\n",
              "        1.1105057 ,  0.07551349, -3.346768  , -1.3400731 ,  2.8042486 ,\n",
              "       -1.1094471 ,  0.2824121 ,  0.8654462 , -3.8102863 , -0.59461933,\n",
              "        0.0378601 ,  0.2941968 ,  1.0687567 ,  0.99998826,  0.66275495,\n",
              "        1.6435239 , -0.40380004, -0.6515654 , -1.4085007 ,  1.8625499 ,\n",
              "        1.0395219 , -2.27062   , -2.883119  ,  0.42053694,  1.8324637 ,\n",
              "        0.09598593, -0.6557247 , -1.3416554 ,  0.5820987 , -0.03130876,\n",
              "        0.47418743, -2.5374513 ,  1.4440792 , -2.4672906 , -0.36876372,\n",
              "       -2.520603  , -0.9760799 ,  1.1961937 ,  0.77877927,  1.6964768 ,\n",
              "        0.04520093, -0.90850556, -2.1799037 ,  1.4581695 , -0.7554247 ,\n",
              "       -0.4429132 , -0.39466956,  2.0706825 , -3.4136786 ,  0.94983953,\n",
              "       -1.1710242 ,  0.04704846, -0.5238295 ,  1.576434  ,  0.40581107,\n",
              "        1.648669  ,  1.3879367 ,  1.7328981 ,  2.4626715 , -0.3055142 ,\n",
              "        2.3844202 , -0.9166703 , -0.8959913 , -0.9090694 , -2.6245139 ,\n",
              "       -0.29574615,  0.04583153, -0.7900213 ,  1.0936025 ,  0.704655  ,\n",
              "        0.6491521 , -0.96461254, -0.210468  , -0.48615554, -0.6054209 ,\n",
              "       -1.2012331 , -3.3037455 ,  0.15301615,  0.42702988,  0.12140021,\n",
              "       -1.5499738 ,  1.7380583 , -0.9534264 ,  1.2680855 , -1.2550699 ,\n",
              "       -1.4228694 , -0.83201754,  2.7719204 , -0.8998047 , -0.5140448 ,\n",
              "        0.5098661 , -1.7213768 , -0.4103444 ,  3.4798536 , -1.7933917 ,\n",
              "       -2.0094812 , -0.91595554,  1.1554755 ,  1.4207249 , -0.68176466,\n",
              "       -0.18499795, -3.1295903 ,  0.64419544,  0.72854936,  0.07476217,\n",
              "       -0.36690304,  2.2412522 ,  0.08098783,  1.6576607 , -1.6915224 ,\n",
              "        1.4496824 ,  2.4429438 , -0.53702104, -2.3106923 , -0.69488305,\n",
              "       -0.39236578, -3.0951679 , -0.8905251 ,  1.3962936 , -2.7996643 ,\n",
              "       -1.7177868 , -3.2347138 ,  1.0147953 , -1.5319589 ,  0.66354537,\n",
              "        0.72270525, -0.08561833,  1.6145048 ,  0.95545316,  2.0313509 ,\n",
              "       -0.41708425, -0.8924087 ,  0.25863704, -0.9639312 , -1.4707419 ,\n",
              "       -0.31306368,  0.3229227 ,  1.9964315 , -0.31408724, -1.1732489 ,\n",
              "        0.93688977, -1.113529  , -1.4354078 ,  1.454397  ,  2.1885707 ,\n",
              "        0.24829799, -0.50976175, -0.5776368 , -0.22553095, -0.69103265,\n",
              "       -0.9427941 , -2.141852  ,  0.2294392 ,  0.11207681,  1.4876763 ,\n",
              "       -1.9574301 , -0.63225895, -0.9580663 , -1.3289771 ,  0.07990593,\n",
              "        0.75775844, -1.7003556 ,  0.35927263, -0.71522665, -0.8709495 ,\n",
              "        0.9450461 ,  0.510532  , -0.4546841 ,  1.7119458 , -0.05128588,\n",
              "        2.0897884 ,  0.17106697, -1.245568  ,  0.05619615,  0.09199421,\n",
              "       -1.7696425 ,  0.02250832,  0.47981247,  0.6250919 , -1.1635851 ,\n",
              "       -0.25340363,  0.68658966,  1.948406  ,  1.3032856 ,  0.75187   ,\n",
              "        0.38128215, -1.8829056 , -1.2760849 ,  1.1840156 ,  0.8822514 ,\n",
              "        0.66272914, -1.555284  ,  0.61475956, -0.41956857, -0.13195956,\n",
              "       -0.22677352,  1.1679604 ,  2.3852136 , -0.40693754, -0.5336796 ,\n",
              "        0.63200325, -0.86885387, -0.65140575,  0.5827294 ,  1.9124643 ,\n",
              "       -0.32460406, -1.4753771 , -4.0460644 , -0.61510444,  0.23623514,\n",
              "       -1.5885773 ,  1.6473833 ,  0.28042436, -0.12706482,  1.0928586 ,\n",
              "        0.08861588,  2.7043371 ,  2.7700677 ,  2.2483516 ,  0.85634744,\n",
              "        0.35612282,  0.6063635 ,  2.038386  , -3.4959984 , -0.59644514,\n",
              "        0.5992079 , -0.4807971 , -0.14876749, -1.2664742 ,  0.0343358 ,\n",
              "       -1.29446   ,  0.7527223 , -0.61600864, -1.4466144 ,  2.2801948 ,\n",
              "       -0.22730386, -0.38471106, -0.02959141,  1.3756554 ,  3.304628  ,\n",
              "       -0.45082942,  0.50452083,  1.7571758 , -1.60071   , -0.05713846,\n",
              "        0.8892856 , -1.379707  ,  0.5273819 , -0.98892   , -0.98662007,\n",
              "        0.6932168 ,  1.2746198 ,  0.24271715, -3.290207  ,  1.0346481 ],\n",
              "      dtype=float32)"
            ]
          },
          "metadata": {},
          "execution_count": 6
        }
      ]
    },
    {
      "cell_type": "code",
      "source": [
        "df['text_vectors']=df.Text.map(lambda x : nlp(x).vector)"
      ],
      "metadata": {
        "id": "w1G9L7cMFT71"
      },
      "execution_count": 7,
      "outputs": []
    },
    {
      "cell_type": "code",
      "source": [
        "df['text_vectors']"
      ],
      "metadata": {
        "colab": {
          "base_uri": "https://localhost:8080/"
        },
        "id": "eZdJcE9pOQlV",
        "outputId": "7832ad04-3777-4a9f-a60f-9780690f0a6a"
      },
      "execution_count": 12,
      "outputs": [
        {
          "output_type": "execute_result",
          "data": {
            "text/plain": [
              "0       [-0.6759837, 1.4263071, -2.318466, -0.451093, ...\n",
              "1       [-1.8355803, 1.3101058, -2.4919677, 1.0268308,...\n",
              "2       [-1.9851209, 0.14389805, -2.4221718, 0.9133005...\n",
              "3       [-2.7812982, -0.16120885, -1.609772, 1.3624227...\n",
              "4       [-2.2010763, 0.9961637, -2.4088492, 1.128273, ...\n",
              "                              ...                        \n",
              "9895    [-1.6682401, 0.78006977, -2.2337353, -0.159771...\n",
              "9896    [-1.9297235, 0.8007302, -1.8990824, 0.42668718...\n",
              "9897    [-1.5289013, 1.0250993, -1.9861357, 0.4278564,...\n",
              "9898    [-1.3928099, 0.7792715, -2.2072845, 0.13192406...\n",
              "9899    [-1.5856593, -0.31769615, -0.9302766, 0.330447...\n",
              "Name: text_vectors, Length: 9900, dtype: object"
            ]
          },
          "metadata": {},
          "execution_count": 12
        }
      ]
    },
    {
      "cell_type": "code",
      "source": [
        "from sklearn.model_selection import train_test_split\n",
        "\n",
        "x_train, x_test, y_train, y_test = train_test_split(\n",
        "    df.text_vectors,\n",
        "    df.label_num,\n",
        "    test_size=0.2\n",
        ")"
      ],
      "metadata": {
        "id": "m25xYNsJL2FA"
      },
      "execution_count": 42,
      "outputs": []
    },
    {
      "cell_type": "code",
      "source": [
        "import numpy as np\n",
        "\n",
        "x_train_2d = np.stack(x_train)\n",
        "x_test_2d = np.stack(x_test)"
      ],
      "metadata": {
        "id": "2OLqJ1hZPO8G"
      },
      "execution_count": 43,
      "outputs": []
    },
    {
      "cell_type": "code",
      "source": [
        "x_train"
      ],
      "metadata": {
        "colab": {
          "base_uri": "https://localhost:8080/"
        },
        "id": "x-p5U-vmOjAQ",
        "outputId": "7499dd94-9a4e-4703-a463-e76628d271e2"
      },
      "execution_count": 44,
      "outputs": [
        {
          "output_type": "execute_result",
          "data": {
            "text/plain": [
              "7982    [-1.1513766, 0.8472771, -1.6613288, 0.13114439...\n",
              "2630    [-2.7477639, 1.2935811, -1.667479, 1.2355894, ...\n",
              "6876    [-0.9504879, 1.0531021, -2.444918, -0.5767492,...\n",
              "3941    [-1.8247339, 0.7739705, -1.8603653, 0.9636776,...\n",
              "6718    [-0.99104637, 1.1280751, -1.6571653, -0.298668...\n",
              "                              ...                        \n",
              "5650    [-2.122114, 0.7669057, -2.4063985, 0.7626442, ...\n",
              "4356    [-1.7900779, 0.8168002, -2.2735236, 0.45998785...\n",
              "2982    [-2.2299173, 0.38330296, -2.260903, 0.84615386...\n",
              "5117    [-1.2382377, 0.8447503, -2.495189, -0.28529474...\n",
              "4480    [-1.9312211, 0.62989014, -1.582881, 0.6830024,...\n",
              "Name: text_vectors, Length: 7920, dtype: object"
            ]
          },
          "metadata": {},
          "execution_count": 44
        }
      ]
    },
    {
      "cell_type": "code",
      "source": [
        "from sklearn.preprocessing import MinMaxScaler\n",
        "sca =MinMaxScaler()\n",
        "x_train_scaled = sca.fit_transform(x_train_2d) \n",
        "x_test_scaled = sca.fit_transform(x_test_2d) "
      ],
      "metadata": {
        "id": "Lpmo9aA1OmQZ"
      },
      "execution_count": 45,
      "outputs": []
    },
    {
      "cell_type": "code",
      "source": [
        "x_test_scaled.shape\n"
      ],
      "metadata": {
        "colab": {
          "base_uri": "https://localhost:8080/"
        },
        "id": "RSEoUR6uQUcC",
        "outputId": "5fe2fd89-dfbe-4a20-91f8-776a8166f6f0"
      },
      "execution_count": 46,
      "outputs": [
        {
          "output_type": "execute_result",
          "data": {
            "text/plain": [
              "(1980, 300)"
            ]
          },
          "metadata": {},
          "execution_count": 46
        }
      ]
    },
    {
      "cell_type": "code",
      "source": [
        "from sklearn.naive_bayes import MultinomialNB\n",
        "\n",
        "clf = MultinomialNB()\n",
        "clf.fit(x_train_scaled, y_train)"
      ],
      "metadata": {
        "colab": {
          "base_uri": "https://localhost:8080/"
        },
        "id": "VT9q291fPqs4",
        "outputId": "a51ab455-e1ca-4157-ee34-41e61cf37ffa"
      },
      "execution_count": 47,
      "outputs": [
        {
          "output_type": "execute_result",
          "data": {
            "text/plain": [
              "MultinomialNB()"
            ]
          },
          "metadata": {},
          "execution_count": 47
        }
      ]
    },
    {
      "cell_type": "code",
      "source": [
        "clf.score(x_test_scaled,y_test)"
      ],
      "metadata": {
        "colab": {
          "base_uri": "https://localhost:8080/"
        },
        "id": "jzXhqry0P5CT",
        "outputId": "b0d18886-051c-4715-d647-81366937c92b"
      },
      "execution_count": 48,
      "outputs": [
        {
          "output_type": "execute_result",
          "data": {
            "text/plain": [
              "0.9444444444444444"
            ]
          },
          "metadata": {},
          "execution_count": 48
        }
      ]
    },
    {
      "cell_type": "code",
      "source": [
        "from sklearn.metrics import classification_report\n",
        "y_pred = clf.predict(x_test_scaled)\n",
        "\n",
        "print(classification_report(y_test, y_pred))"
      ],
      "metadata": {
        "colab": {
          "base_uri": "https://localhost:8080/"
        },
        "id": "KeO-CD2SQ6aM",
        "outputId": "4f3057cc-f0ca-4cb5-ca92-32499b75083d"
      },
      "execution_count": 50,
      "outputs": [
        {
          "output_type": "stream",
          "name": "stdout",
          "text": [
            "              precision    recall  f1-score   support\n",
            "\n",
            "           0       0.96      0.93      0.95      1023\n",
            "           1       0.92      0.96      0.94       957\n",
            "\n",
            "    accuracy                           0.94      1980\n",
            "   macro avg       0.94      0.95      0.94      1980\n",
            "weighted avg       0.95      0.94      0.94      1980\n",
            "\n"
          ]
        }
      ]
    }
  ]
}