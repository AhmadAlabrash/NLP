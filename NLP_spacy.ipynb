{
  "nbformat": 4,
  "nbformat_minor": 0,
  "metadata": {
    "colab": {
      "provenance": [],
      "authorship_tag": "ABX9TyM3BrXmM2VVa1SW1T/o+PU2",
      "include_colab_link": true
    },
    "kernelspec": {
      "name": "python3",
      "display_name": "Python 3"
    },
    "language_info": {
      "name": "python"
    }
  },
  "cells": [
    {
      "cell_type": "markdown",
      "metadata": {
        "id": "view-in-github",
        "colab_type": "text"
      },
      "source": [
        "<a href=\"https://colab.research.google.com/github/AhmadAlabrash/NLP/blob/main/NLP_spacy.ipynb\" target=\"_parent\"><img src=\"https://colab.research.google.com/assets/colab-badge.svg\" alt=\"Open In Colab\"/></a>"
      ]
    },
    {
      "cell_type": "code",
      "execution_count": 1,
      "metadata": {
        "id": "RkM-96jbBBM5"
      },
      "outputs": [],
      "source": [
        "import spacy"
      ]
    },
    {
      "cell_type": "code",
      "source": [
        "nlp  =spacy.blank('ar')\n",
        "\n",
        "doc = nlp('''لدينا خبرة عالية في طرقات اسطنبول وأماكنها السياحية .. 🇹🇷\n",
        "تكسي تحت الطلب الالتزام الكامل بالوقت المحدد .. ⏰\n",
        "نتكلم اللغة التركية و العربية ..\n",
        "الراحة والإطمئنان هو شعار عملنا ..\n",
        "نقدم لكم افضل خدمة مع اقوى العروض ..\n",
        "ننتظر اتصالكم بنا وحجز موعد مسبق لتلبية طلبات توصيلكم''')\n",
        "doc[23]"
      ],
      "metadata": {
        "colab": {
          "base_uri": "https://localhost:8080/"
        },
        "id": "5jbzvJbpC025",
        "outputId": "9b0e8616-f8d7-4036-8860-a320f1e9b31d"
      },
      "execution_count": 2,
      "outputs": [
        {
          "output_type": "execute_result",
          "data": {
            "text/plain": [
              "اللغة"
            ]
          },
          "metadata": {},
          "execution_count": 2
        }
      ]
    },
    {
      "cell_type": "code",
      "source": [
        "\n",
        "doc[7]"
      ],
      "metadata": {
        "colab": {
          "base_uri": "https://localhost:8080/"
        },
        "id": "F-4aQy2TEoW1",
        "outputId": "27383343-efd0-47b4-dc51-57b08fb3deff"
      },
      "execution_count": 3,
      "outputs": [
        {
          "output_type": "execute_result",
          "data": {
            "text/plain": [
              "السياحية"
            ]
          },
          "metadata": {},
          "execution_count": 3
        }
      ]
    },
    {
      "cell_type": "code",
      "source": [
        "nlp = spacy.load(\"en_core_web_sm\")\n",
        "doc = nlp('''Jeffrey Preston Bezos (/ˈbeɪzoʊs/ BAY-zohss;\n",
        " né Jorgensen; born January 12, 1964) good is an American entrepreneur,\n",
        " media proprietor, investor, computer engineer he founder of amazon''')\n",
        "\n",
        "# token.text, token.tag_,  token.doc, token.dep_, token.ent_type_ , token.is_alpha , token.vector \n",
        "#token.like_email,token.like_url , token.is_currency, token.is_punct, token.is_stop,token.pos_,token.lemma_,\n",
        "\n",
        "for token in doc:\n",
        "  print(token.like_url,spacy.explain(token.ent_type_))"
      ],
      "metadata": {
        "id": "6467Bhj4D4gq"
      },
      "execution_count": null,
      "outputs": []
    },
    {
      "cell_type": "code",
      "source": [
        "doc = nlp(\"Dr. Strange loves pav bhaji of mumbai. Hulk loves chat of delhi\")\n",
        "for sentence in doc.sents:\n",
        "    print(sentence)"
      ],
      "metadata": {
        "colab": {
          "base_uri": "https://localhost:8080/"
        },
        "id": "iWvv0_EUjYMZ",
        "outputId": "cf0eb694-5fcc-4762-c908-340653278f0f"
      },
      "execution_count": 40,
      "outputs": [
        {
          "output_type": "stream",
          "name": "stdout",
          "text": [
            "Dr. Strange loves pav bhaji of mumbai.\n",
            "Hulk loves chat of delhi\n"
          ]
        }
      ]
    },
    {
      "cell_type": "code",
      "source": [
        "nlp.pipeline"
      ],
      "metadata": {
        "colab": {
          "base_uri": "https://localhost:8080/"
        },
        "id": "W5XrNmPPjiVB",
        "outputId": "921bd019-661c-463d-abf0-85d8c1051e93"
      },
      "execution_count": 41,
      "outputs": [
        {
          "output_type": "execute_result",
          "data": {
            "text/plain": [
              "[('tok2vec', <spacy.pipeline.tok2vec.Tok2Vec at 0x7f415fd70050>),\n",
              " ('tagger', <spacy.pipeline.tagger.Tagger at 0x7f415fd70130>),\n",
              " ('parser', <spacy.pipeline.dep_parser.DependencyParser at 0x7f41607f3f50>),\n",
              " ('attribute_ruler',\n",
              "  <spacy.pipeline.attributeruler.AttributeRuler at 0x7f415ed03050>),\n",
              " ('lemmatizer',\n",
              "  <spacy.lang.en.lemmatizer.EnglishLemmatizer at 0x7f4162c5fc80>),\n",
              " ('ner', <spacy.pipeline.ner.EntityRecognizer at 0x7f41607f3ad0>)]"
            ]
          },
          "metadata": {},
          "execution_count": 41
        }
      ]
    }
  ]
}