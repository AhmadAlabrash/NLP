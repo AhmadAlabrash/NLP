{
  "nbformat": 4,
  "nbformat_minor": 0,
  "metadata": {
    "colab": {
      "provenance": [],
      "authorship_tag": "ABX9TyMx3QKNu9hXjpOfQk0i69zh",
      "include_colab_link": true
    },
    "kernelspec": {
      "name": "python3",
      "display_name": "Python 3"
    },
    "language_info": {
      "name": "python"
    }
  },
  "cells": [
    {
      "cell_type": "markdown",
      "metadata": {
        "id": "view-in-github",
        "colab_type": "text"
      },
      "source": [
        "<a href=\"https://colab.research.google.com/github/AhmadAlabrash/NLP/blob/main/NLP_spacy.ipynb\" target=\"_parent\"><img src=\"https://colab.research.google.com/assets/colab-badge.svg\" alt=\"Open In Colab\"/></a>"
      ]
    },
    {
      "cell_type": "code",
      "execution_count": 1,
      "metadata": {
        "id": "RkM-96jbBBM5"
      },
      "outputs": [],
      "source": [
        "import spacy"
      ]
    },
    {
      "cell_type": "code",
      "source": [
        "nlp  =spacy.blank('ar')\n",
        "\n",
        "doc = nlp('''لدينا خبرة عالية في طرقات اسطنبول وأماكنها السياحية .. 🇹🇷\n",
        "تكسي تحت الطلب الالتزام الكامل بالوقت المحدد .. ⏰\n",
        "نتكلم اللغة التركية و العربية ..\n",
        "الراحة والإطمئنان هو شعار عملنا ..\n",
        "نقدم لكم افضل خدمة مع اقوى العروض ..\n",
        "ننتظر اتصالكم بنا وحجز موعد مسبق لتلبية طلبات توصيلكم''')\n",
        "doc[23]"
      ],
      "metadata": {
        "colab": {
          "base_uri": "https://localhost:8080/"
        },
        "id": "5jbzvJbpC025",
        "outputId": "426cdbe2-9f19-498b-c926-7691b70e0d48"
      },
      "execution_count": 2,
      "outputs": [
        {
          "output_type": "execute_result",
          "data": {
            "text/plain": [
              "اللغة"
            ]
          },
          "metadata": {},
          "execution_count": 2
        }
      ]
    },
    {
      "cell_type": "code",
      "source": [
        "\n",
        "doc[7]"
      ],
      "metadata": {
        "colab": {
          "base_uri": "https://localhost:8080/"
        },
        "id": "F-4aQy2TEoW1",
        "outputId": "32c40f8c-60ab-4a6a-cff1-deaa586dc48b"
      },
      "execution_count": 3,
      "outputs": [
        {
          "output_type": "execute_result",
          "data": {
            "text/plain": [
              "السياحية"
            ]
          },
          "metadata": {},
          "execution_count": 3
        }
      ]
    },
    {
      "cell_type": "code",
      "source": [
        "nlp = spacy.load(\"en_core_web_sm\")\n",
        "doc = nlp('''Jeffrey Preston Bezos (/ˈbeɪzoʊs/ BAY-zohss;\n",
        " né Jorgensen; born January 12, 1964) good is an American entrepreneur,\n",
        " media proprietor, investor, computer engineer he founder of amazon''')\n",
        "\n",
        "# token.text, token.tag_,  token.doc, token.dep_, token.ent_type_ , token.is_alpha , token.vector \n",
        "#token.like_email,token.like_url , token.is_currency, token.is_punct, token.is_stop,token.pos_,token.lemma_,\n",
        "\n",
        "for token in doc:\n",
        "  print(token.like_url,spacy.explain(token.ent_type_))"
      ],
      "metadata": {
        "id": "6467Bhj4D4gq",
        "outputId": "b1ff1e70-3288-4b45-9028-3ffa6229aab9",
        "colab": {
          "base_uri": "https://localhost:8080/"
        }
      },
      "execution_count": 4,
      "outputs": [
        {
          "output_type": "stream",
          "name": "stdout",
          "text": [
            "False People, including fictional\n",
            "False People, including fictional\n",
            "False People, including fictional\n",
            "False None\n",
            "False None\n",
            "False Non-GPE locations, mountain ranges, bodies of water\n",
            "False Non-GPE locations, mountain ranges, bodies of water\n",
            "False Non-GPE locations, mountain ranges, bodies of water\n",
            "False None\n",
            "False None\n",
            "False None\n",
            "False Companies, agencies, institutions, etc.\n",
            "False None\n",
            "False None\n",
            "False Absolute or relative dates or periods\n",
            "False Absolute or relative dates or periods\n",
            "False Absolute or relative dates or periods\n",
            "False Absolute or relative dates or periods\n",
            "False None\n",
            "False None\n",
            "False None\n",
            "False None\n",
            "False Nationalities or religious or political groups\n",
            "False None\n",
            "False None\n",
            "False None\n",
            "False None\n",
            "False None\n",
            "False None\n",
            "False None\n",
            "False None\n",
            "False None\n",
            "False None\n",
            "False None\n",
            "False None\n",
            "False None\n",
            "False Companies, agencies, institutions, etc.\n"
          ]
        },
        {
          "output_type": "stream",
          "name": "stderr",
          "text": [
            "/usr/local/lib/python3.7/dist-packages/spacy/glossary.py:19: UserWarning: [W118] Term '' not found in glossary. It may however be explained in documentation for the corpora used to train the language. Please check `nlp.meta[\"sources\"]` for any relevant links.\n",
            "  warnings.warn(Warnings.W118.format(term=term))\n"
          ]
        }
      ]
    },
    {
      "cell_type": "code",
      "source": [
        "doc = nlp(\"Dr. Strange loves pav bhaji of mumbai. Hulk loves chat of delhi\")\n",
        "for sentence in doc.sents:\n",
        "    print(sentence)"
      ],
      "metadata": {
        "colab": {
          "base_uri": "https://localhost:8080/"
        },
        "id": "iWvv0_EUjYMZ",
        "outputId": "b3814684-6aa8-4021-f049-0f9e254bb3a2"
      },
      "execution_count": 5,
      "outputs": [
        {
          "output_type": "stream",
          "name": "stdout",
          "text": [
            "Dr. Strange loves pav bhaji of mumbai.\n",
            "Hulk loves chat of delhi\n"
          ]
        }
      ]
    },
    {
      "cell_type": "code",
      "source": [
        "nlp.pipeline\n",
        "nlp.pipe_names"
      ],
      "metadata": {
        "colab": {
          "base_uri": "https://localhost:8080/"
        },
        "id": "W5XrNmPPjiVB",
        "outputId": "cac5ef1b-78a0-4835-bab7-57b4936c9c72"
      },
      "execution_count": 7,
      "outputs": [
        {
          "output_type": "execute_result",
          "data": {
            "text/plain": [
              "['tok2vec', 'tagger', 'parser', 'attribute_ruler', 'lemmatizer', 'ner']"
            ]
          },
          "metadata": {},
          "execution_count": 7
        }
      ]
    },
    {
      "cell_type": "code",
      "source": [
        "source_nlp = spacy.load(\"en_core_web_sm\")\n",
        "\n",
        "nlp = spacy.blank(\"en\")\n",
        "nlp.add_pipe(\"ner\", source=source_nlp)\n",
        "nlp.pipe_names"
      ],
      "metadata": {
        "id": "4xGnhCQumFHq",
        "outputId": "d42d78e3-9952-472a-c44c-c6d5d9bbcf2f",
        "colab": {
          "base_uri": "https://localhost:8080/"
        }
      },
      "execution_count": 8,
      "outputs": [
        {
          "output_type": "execute_result",
          "data": {
            "text/plain": [
              "['ner']"
            ]
          },
          "metadata": {},
          "execution_count": 8
        }
      ]
    }
  ]
}