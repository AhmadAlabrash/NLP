{
  "nbformat": 4,
  "nbformat_minor": 0,
  "metadata": {
    "colab": {
      "provenance": [],
      "authorship_tag": "ABX9TyM8J/MDJLuvkWzhS8+bm1r8",
      "include_colab_link": true
    },
    "kernelspec": {
      "name": "python3",
      "display_name": "Python 3"
    },
    "language_info": {
      "name": "python"
    }
  },
  "cells": [
    {
      "cell_type": "markdown",
      "metadata": {
        "id": "view-in-github",
        "colab_type": "text"
      },
      "source": [
        "<a href=\"https://colab.research.google.com/github/AhmadAlabrash/NLP/blob/main/NLP_spacy_parameters.ipynb\" target=\"_parent\"><img src=\"https://colab.research.google.com/assets/colab-badge.svg\" alt=\"Open In Colab\"/></a>"
      ]
    },
    {
      "cell_type": "code",
      "execution_count": 2,
      "metadata": {
        "id": "YJbLwlvRgV-V"
      },
      "outputs": [],
      "source": [
        "import nltk\n",
        "import spacy"
      ]
    },
    {
      "cell_type": "code",
      "source": [
        "nlp =spacy.load('en_core_web_sm')"
      ],
      "metadata": {
        "id": "NgJWA-noio0P"
      },
      "execution_count": 5,
      "outputs": []
    },
    {
      "cell_type": "code",
      "source": [
        "earnings_text= nlp('''\n",
        "Microsoft Corp. today announced the following results for the quarter ended December 31, 2021, as compared to the corresponding period of last fiscal year:\n",
        "·         Revenue was $51.7 billion and increased 20% .\n",
        "·         Operating income was $22.2 billion and increased 24%\n",
        "·         Net income was $18.8 billion and increased 21% .\n",
        "·         Diluted earnings per share was $2.48 and increased 22%\n",
        "“Digital technology is the most malleable resource at the world’s disposal to overcome constraints and reimagine everyday work and life,” said Satya Nadella, chairman and chief executive officer of Microsoft. “As tech as a percentage of global GDP continues to increase, we are innovating and investing across diverse and growing markets, with a common underlying technology stack and an operating model that reinforces a common strategy, culture, and sense of purpose.”\n",
        "“Solid commercial execution, represented by strong bookings growth driven by long-term Azure commitments, increased Microsoft Cloud revenue to $22.1 billion, up 32% year over year” said Amy Hood, executive vice president and chief financial officer of Microsoft.\n",
        "''')\n"
      ],
      "metadata": {
        "id": "ydKqmYLIh7qZ"
      },
      "execution_count": 58,
      "outputs": []
    },
    {
      "cell_type": "code",
      "source": [
        "#it divide doc to sents depend on points\n",
        "for sent in earnings_text.sents:\n",
        "  print(sent.text,'|',sent.start,'|',sent.end)"
      ],
      "metadata": {
        "colab": {
          "base_uri": "https://localhost:8080/"
        },
        "id": "2Bu3Qh4bq-Yk",
        "outputId": "56c9b139-9131-4963-e419-27cff101151a"
      },
      "execution_count": 75,
      "outputs": [
        {
          "output_type": "stream",
          "name": "stdout",
          "text": [
            "\n",
            "Microsoft Corp. today announced the following results for the quarter ended December 31, 2021, as compared to the corresponding period of last fiscal year:\n",
            "·         Revenue was $51.7 billion and increased 20% .\n",
            " | 0 | 42\n",
            "·         Operating income was $22.2 billion and increased 24%\n",
            "·         Net income was $18.8 billion and increased 21% .\n",
            " | 42 | 69\n",
            "·         Diluted earnings per share was $2.48 and increased 22%\n",
            "“Digital technology is the most malleable resource at the world’s disposal to overcome constraints and reimagine everyday work and life,” said Satya Nadella, chairman and chief executive officer of Microsoft. | 69 | 119\n",
            "“As tech as a percentage of global GDP continues to increase, we are innovating and investing across diverse and growing markets, with a common underlying technology stack and an operating model that reinforces a common strategy, culture, and sense of purpose.”\n",
            " | 119 | 168\n",
            "“Solid commercial execution, represented by strong bookings growth driven by long-term Azure commitments, increased Microsoft Cloud revenue to $22.1 billion, up 32% year over year” said Amy Hood, executive vice president and chief financial officer of Microsoft.\n",
            " | 168 | 217\n"
          ]
        }
      ]
    },
    {
      "cell_type": "code",
      "source": [
        "# it return doc as ner (name entity recogention)\n",
        "for ent in earnings_text.ents:\n",
        "  print(ent ,'|',ent.label_ ,'|',spacy.explain(ent.label_))"
      ],
      "metadata": {
        "colab": {
          "base_uri": "https://localhost:8080/"
        },
        "id": "K-v--cjkqeQ4",
        "outputId": "f903a6b2-fb03-4cb1-d5a6-c59b69c9d77f"
      },
      "execution_count": 74,
      "outputs": [
        {
          "output_type": "stream",
          "name": "stdout",
          "text": [
            "Microsoft Corp. | ORG | Companies, agencies, institutions, etc.\n",
            "today | DATE | Absolute or relative dates or periods\n",
            "the quarter ended December 31, 2021 | DATE | Absolute or relative dates or periods\n",
            "last fiscal year | DATE | Absolute or relative dates or periods\n",
            "$51.7 billion | MONEY | Monetary values, including unit\n",
            "20% | PERCENT | Percentage, including \"%\"\n",
            "$22.2 billion | MONEY | Monetary values, including unit\n",
            "24% | PERCENT | Percentage, including \"%\"\n",
            "$18.8 billion | MONEY | Monetary values, including unit\n",
            "21% | PERCENT | Percentage, including \"%\"\n",
            "2.48 | MONEY | Monetary values, including unit\n",
            "22% | PERCENT | Percentage, including \"%\"\n",
            "Digital | ORG | Companies, agencies, institutions, etc.\n",
            "Satya Nadella | PERSON | People, including fictional\n",
            "Microsoft | ORG | Companies, agencies, institutions, etc.\n",
            "Microsoft | ORG | Companies, agencies, institutions, etc.\n",
            "$22.1 billion | MONEY | Monetary values, including unit\n",
            "32% | PERCENT | Percentage, including \"%\"\n",
            "year | DATE | Absolute or relative dates or periods\n",
            "Amy Hood | PERSON | People, including fictional\n",
            "Microsoft | ORG | Companies, agencies, institutions, etc.\n"
          ]
        }
      ]
    },
    {
      "cell_type": "code",
      "source": [
        "for word  in earnings_text :\n",
        "  if word.pos_  not in ['SPACE','PROPN'] :\n",
        "    print(word.pos_)             "
      ],
      "metadata": {
        "colab": {
          "base_uri": "https://localhost:8080/"
        },
        "id": "p5a294OPiRnJ",
        "outputId": "5448d9e2-8aac-46a2-cf25-4c2a48932cb6"
      },
      "execution_count": 30,
      "outputs": [
        {
          "output_type": "stream",
          "name": "stdout",
          "text": [
            "NOUN\n",
            "VERB\n",
            "DET\n",
            "VERB\n",
            "NOUN\n",
            "ADP\n",
            "DET\n",
            "NOUN\n",
            "VERB\n",
            "NUM\n",
            "PUNCT\n",
            "NUM\n",
            "PUNCT\n",
            "SCONJ\n",
            "VERB\n",
            "ADP\n",
            "DET\n",
            "ADJ\n",
            "NOUN\n",
            "ADP\n",
            "ADJ\n",
            "ADJ\n",
            "NOUN\n",
            "PUNCT\n",
            "PUNCT\n",
            "NOUN\n",
            "AUX\n",
            "SYM\n",
            "NUM\n",
            "NUM\n",
            "CCONJ\n",
            "VERB\n",
            "NUM\n",
            "NOUN\n",
            "PUNCT\n",
            "VERB\n",
            "NOUN\n",
            "AUX\n",
            "SYM\n",
            "NUM\n",
            "NUM\n",
            "CCONJ\n",
            "VERB\n",
            "NUM\n",
            "NOUN\n",
            "PUNCT\n",
            "ADJ\n",
            "NOUN\n",
            "AUX\n",
            "SYM\n",
            "NUM\n",
            "NUM\n",
            "CCONJ\n",
            "VERB\n",
            "NUM\n",
            "NOUN\n",
            "PUNCT\n",
            "ADJ\n",
            "NOUN\n",
            "ADP\n",
            "NOUN\n",
            "AUX\n",
            "SYM\n",
            "NUM\n",
            "CCONJ\n",
            "VERB\n",
            "NUM\n",
            "NOUN\n",
            "PUNCT\n",
            "NOUN\n",
            "AUX\n",
            "DET\n",
            "ADV\n",
            "ADJ\n",
            "NOUN\n",
            "ADP\n",
            "DET\n",
            "NOUN\n",
            "PART\n",
            "NOUN\n",
            "PART\n",
            "VERB\n",
            "NOUN\n",
            "CCONJ\n",
            "VERB\n",
            "ADJ\n",
            "NOUN\n",
            "CCONJ\n",
            "NOUN\n",
            "PUNCT\n",
            "PUNCT\n",
            "VERB\n",
            "PUNCT\n",
            "NOUN\n",
            "CCONJ\n",
            "ADJ\n",
            "ADJ\n",
            "NOUN\n",
            "ADP\n",
            "PUNCT\n",
            "PUNCT\n",
            "ADV\n",
            "NOUN\n",
            "ADP\n",
            "DET\n",
            "NOUN\n",
            "ADP\n",
            "ADJ\n",
            "VERB\n",
            "PART\n",
            "VERB\n",
            "PUNCT\n",
            "PRON\n",
            "AUX\n",
            "VERB\n",
            "CCONJ\n",
            "VERB\n",
            "ADP\n",
            "ADJ\n",
            "CCONJ\n",
            "VERB\n",
            "NOUN\n",
            "PUNCT\n",
            "ADP\n",
            "DET\n",
            "ADJ\n",
            "ADJ\n",
            "NOUN\n",
            "NOUN\n",
            "CCONJ\n",
            "DET\n",
            "NOUN\n",
            "NOUN\n",
            "PRON\n",
            "VERB\n",
            "DET\n",
            "ADJ\n",
            "NOUN\n",
            "PUNCT\n",
            "NOUN\n",
            "PUNCT\n",
            "CCONJ\n",
            "NOUN\n",
            "ADP\n",
            "NOUN\n",
            "PUNCT\n",
            "PUNCT\n",
            "PUNCT\n",
            "ADJ\n",
            "ADJ\n",
            "NOUN\n",
            "PUNCT\n",
            "VERB\n",
            "ADP\n",
            "ADJ\n",
            "NOUN\n",
            "NOUN\n",
            "VERB\n",
            "ADP\n",
            "ADJ\n",
            "PUNCT\n",
            "NOUN\n",
            "NOUN\n",
            "PUNCT\n",
            "VERB\n",
            "NOUN\n",
            "ADP\n",
            "SYM\n",
            "NUM\n",
            "NUM\n",
            "PUNCT\n",
            "ADV\n",
            "NUM\n",
            "NOUN\n",
            "NOUN\n",
            "ADP\n",
            "NOUN\n",
            "PUNCT\n",
            "VERB\n",
            "PUNCT\n",
            "ADJ\n",
            "NOUN\n",
            "NOUN\n",
            "CCONJ\n",
            "ADJ\n",
            "ADJ\n",
            "NOUN\n",
            "ADP\n",
            "PUNCT\n"
          ]
        }
      ]
    },
    {
      "cell_type": "code",
      "source": [
        "spacy.attrs.POS"
      ],
      "metadata": {
        "colab": {
          "base_uri": "https://localhost:8080/"
        },
        "id": "0v6UMZHqkogZ",
        "outputId": "07f46e68-5da4-4c8f-8420-1bffc66ef50b"
      },
      "execution_count": 46,
      "outputs": [
        {
          "output_type": "execute_result",
          "data": {
            "text/plain": [
              "74"
            ]
          },
          "metadata": {},
          "execution_count": 46
        }
      ]
    },
    {
      "cell_type": "code",
      "source": [
        "doc_pos =earnings_text.count_by(spacy.attrs.POS)"
      ],
      "metadata": {
        "id": "83u5hTXildSY"
      },
      "execution_count": 76,
      "outputs": []
    },
    {
      "cell_type": "code",
      "source": [
        "for k,v in doc_pos.items():\n",
        "  print(earnings_text.vocab[k].text,'| ',v)"
      ],
      "metadata": {
        "colab": {
          "base_uri": "https://localhost:8080/"
        },
        "id": "eYs_anHhngwq",
        "outputId": "a8f96b8b-6008-41e6-af56-02c83590d1a7"
      },
      "execution_count": 78,
      "outputs": [
        {
          "output_type": "stream",
          "name": "stdout",
          "text": [
            "SPACE |  12\n",
            "PROPN |  14\n",
            "NOUN |  46\n",
            "VERB |  22\n",
            "DET |  9\n",
            "ADP |  16\n",
            "NUM |  16\n",
            "PUNCT |  29\n",
            "SCONJ |  1\n",
            "ADJ |  21\n",
            "AUX |  6\n",
            "SYM |  5\n",
            "CCONJ |  12\n",
            "ADV |  3\n",
            "PART |  3\n",
            "PRON |  2\n"
          ]
        }
      ]
    },
    {
      "cell_type": "code",
      "source": [
        "doc_lemma =earnings_text.count_by(spacy.attrs.LEMMA)\n",
        "\n",
        "for k,v in doc_lemma.items():\n",
        "  print(earnings_text.vocab[k].text,'| ',v)"
      ],
      "metadata": {
        "colab": {
          "base_uri": "https://localhost:8080/"
        },
        "id": "gGjyMvujnPf0",
        "outputId": "b05b5c89-1d65-4466-d3bf-bbfb4ffab5e9"
      },
      "execution_count": 79,
      "outputs": [
        {
          "output_type": "stream",
          "name": "stdout",
          "text": [
            "\n",
            " |  8\n",
            "Microsoft |  4\n",
            "Corp. |  1\n",
            "today |  1\n",
            "announce |  1\n",
            "the |  5\n",
            "follow |  1\n",
            "result |  1\n",
            "for |  1\n",
            "quarter |  1\n",
            "end |  1\n",
            "December |  1\n",
            "31 |  1\n",
            ", |  12\n",
            "2021 |  1\n",
            "as |  3\n",
            "compare |  1\n",
            "to |  4\n",
            "corresponding |  1\n",
            "period |  1\n",
            "of |  5\n",
            "last |  1\n",
            "fiscal |  1\n",
            "year |  3\n",
            ": |  1\n",
            "· |  4\n",
            "         |  4\n",
            "revenue |  2\n",
            "be |  6\n",
            "$ |  5\n",
            "51.7 |  1\n",
            "billion |  4\n",
            "and |  12\n",
            "increase |  6\n",
            "20 |  1\n",
            "% |  5\n",
            ". |  5\n",
            "operate |  1\n",
            "income |  2\n",
            "22.2 |  1\n",
            "24 |  1\n",
            "net |  1\n",
            "18.8 |  1\n",
            "21 |  1\n",
            "diluted |  1\n",
            "earning |  1\n",
            "per |  1\n",
            "share |  1\n",
            "2.48 |  1\n",
            "22 |  1\n",
            "\" |  6\n",
            "Digital |  1\n",
            "technology |  2\n",
            "most |  1\n",
            "malleable |  1\n",
            "resource |  1\n",
            "at |  1\n",
            "world |  1\n",
            "’s |  1\n",
            "disposal |  1\n",
            "overcome |  1\n",
            "constraint |  1\n",
            "reimagine |  1\n",
            "everyday |  1\n",
            "work |  1\n",
            "life |  1\n",
            "say |  2\n",
            "Satya |  1\n",
            "Nadella |  1\n",
            "chairman |  1\n",
            "chief |  2\n",
            "executive |  2\n",
            "officer |  2\n",
            "tech |  1\n",
            "a |  3\n",
            "percentage |  1\n",
            "global |  1\n",
            "GDP |  1\n",
            "continue |  1\n",
            "we |  1\n",
            "innovate |  1\n",
            "invest |  1\n",
            "across |  1\n",
            "diverse |  1\n",
            "grow |  1\n",
            "market |  1\n",
            "with |  1\n",
            "common |  2\n",
            "underlying |  1\n",
            "stack |  1\n",
            "an |  1\n",
            "operating |  1\n",
            "model |  1\n",
            "that |  1\n",
            "reinforce |  1\n",
            "strategy |  1\n",
            "culture |  1\n",
            "sense |  1\n",
            "purpose |  1\n",
            "solid |  1\n",
            "commercial |  1\n",
            "execution |  1\n",
            "represent |  1\n",
            "by |  2\n",
            "strong |  1\n",
            "booking |  1\n",
            "growth |  1\n",
            "drive |  1\n",
            "long |  1\n",
            "- |  1\n",
            "term |  1\n",
            "Azure |  1\n",
            "commitment |  1\n",
            "Cloud |  1\n",
            "22.1 |  1\n",
            "up |  1\n",
            "32 |  1\n",
            "over |  1\n",
            "Amy |  1\n",
            "Hood |  1\n",
            "vice |  1\n",
            "president |  1\n",
            "financial |  1\n"
          ]
        }
      ]
    },
    {
      "cell_type": "code",
      "source": [
        "doc = nlp('Amzon and Sevly are very big company like twitter and faceook')"
      ],
      "metadata": {
        "id": "SoshdTnWzrgV"
      },
      "execution_count": 99,
      "outputs": []
    },
    {
      "cell_type": "code",
      "source": [
        "from spacy.tokens import Span\n",
        "\n",
        "s1 = Span(doc,0,1,'PER')\n",
        "s2 = Span(doc,2,3,'ORG')\n",
        "\n",
        "doc.set_ents([s1,s2],default='unmodified')"
      ],
      "metadata": {
        "id": "VUSBBVETqchJ"
      },
      "execution_count": 95,
      "outputs": []
    },
    {
      "cell_type": "code",
      "source": [
        "for ent in doc.ents :\n",
        "  print(ent ,'|' ,ent.label_,'|',spacy.explain(ent.label_))"
      ],
      "metadata": {
        "colab": {
          "base_uri": "https://localhost:8080/"
        },
        "id": "NLJsUJAi0iop",
        "outputId": "b8bfc8c9-12c9-4341-bdce-0c7e6366691b"
      },
      "execution_count": 98,
      "outputs": [
        {
          "output_type": "stream",
          "name": "stdout",
          "text": [
            "Amzon | PER | Named person or family.\n",
            "Sevly | ORG | Companies, agencies, institutions, etc.\n"
          ]
        }
      ]
    }
  ]
}