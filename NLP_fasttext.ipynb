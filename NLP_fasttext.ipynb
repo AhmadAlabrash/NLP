{
  "nbformat": 4,
  "nbformat_minor": 0,
  "metadata": {
    "colab": {
      "provenance": [],
      "authorship_tag": "ABX9TyN4XN4LlrNXCi4wq3I2R/v9",
      "include_colab_link": true
    },
    "kernelspec": {
      "name": "python3",
      "display_name": "Python 3"
    },
    "language_info": {
      "name": "python"
    }
  },
  "cells": [
    {
      "cell_type": "markdown",
      "metadata": {
        "id": "view-in-github",
        "colab_type": "text"
      },
      "source": [
        "<a href=\"https://colab.research.google.com/github/AhmadAlabrash/NLP/blob/main/NLP_fasttext.ipynb\" target=\"_parent\"><img src=\"https://colab.research.google.com/assets/colab-badge.svg\" alt=\"Open In Colab\"/></a>"
      ]
    },
    {
      "cell_type": "code",
      "source": [
        "pip install fasttext"
      ],
      "metadata": {
        "colab": {
          "base_uri": "https://localhost:8080/"
        },
        "id": "1gFLuV8kZwye",
        "outputId": "b85cf995-90fa-42d6-964d-6a1da60306d6"
      },
      "execution_count": 2,
      "outputs": [
        {
          "output_type": "stream",
          "name": "stdout",
          "text": [
            "Looking in indexes: https://pypi.org/simple, https://us-python.pkg.dev/colab-wheels/public/simple/\n",
            "Requirement already satisfied: fasttext in /usr/local/lib/python3.7/dist-packages (0.9.2)\n",
            "Requirement already satisfied: pybind11>=2.2 in /usr/local/lib/python3.7/dist-packages (from fasttext) (2.10.1)\n",
            "Requirement already satisfied: numpy in /usr/local/lib/python3.7/dist-packages (from fasttext) (1.21.6)\n",
            "Requirement already satisfied: setuptools>=0.7.0 in /usr/local/lib/python3.7/dist-packages (from fasttext) (57.4.0)\n"
          ]
        }
      ]
    },
    {
      "cell_type": "code",
      "execution_count": 3,
      "metadata": {
        "colab": {
          "base_uri": "https://localhost:8080/"
        },
        "id": "SiUVUpmvXw0S",
        "outputId": "00e3426c-47b5-48cd-decd-cb152ee6e5ba"
      },
      "outputs": [
        {
          "output_type": "stream",
          "name": "stderr",
          "text": [
            "Warning : `load_model` does not return WordVectorModel or SupervisedModel any more, but a `FastText` object which is very similar.\n"
          ]
        }
      ],
      "source": [
        "import fasttext.util \n",
        "fasttext.util.download_model('en', if_exists='ignore')  # English\n",
        "ft = fasttext.load_model('cc.en.300.bin')"
      ]
    },
    {
      "cell_type": "code",
      "source": [
        "ft.get_word_vector(\"good\")"
      ],
      "metadata": {
        "colab": {
          "base_uri": "https://localhost:8080/"
        },
        "id": "x8ulU5VgbOBx",
        "outputId": "2660245d-4d93-4496-bc53-5643982caa7a"
      },
      "execution_count": 4,
      "outputs": [
        {
          "output_type": "execute_result",
          "data": {
            "text/plain": [
              "array([-0.09213716, -0.0634383 ,  0.00173813,  0.13524324, -0.06561062,\n",
              "        0.00619071,  0.12609869, -0.01646539,  0.0174491 , -0.00126792,\n",
              "       -0.09709831,  0.02329333,  0.00996784,  0.00463419,  0.01587938,\n",
              "        0.00689824,  0.08575399, -0.01988525, -0.0601579 , -0.02327966,\n",
              "        0.01183712,  0.08217917,  0.01488847,  0.00902181,  0.00696296,\n",
              "       -0.06426616,  0.03345198, -0.02101481,  0.06767873,  0.03022419,\n",
              "        0.07203474, -0.05689922, -0.04370377,  0.00642597,  0.0439174 ,\n",
              "        0.0604848 , -0.00611545, -0.12256738, -0.03530414, -0.02696739,\n",
              "       -0.02058216,  0.00752347, -0.00686451,  0.0362783 , -0.03308735,\n",
              "        0.05801626,  0.00832448, -0.06336953, -0.05775082,  0.01089846,\n",
              "       -0.0925179 ,  0.01559984, -0.04079024,  0.0066871 , -0.06374165,\n",
              "        0.05881973,  0.07209535, -0.05387195, -0.14658651, -0.04046486,\n",
              "       -0.02507038, -0.04954465, -0.05224417, -0.06846938,  0.0467079 ,\n",
              "        0.00459271, -0.07522177,  0.03627685, -0.0698283 ,  0.0174791 ,\n",
              "       -0.03427085, -0.043176  ,  0.00764059,  0.05694873,  0.0064466 ,\n",
              "       -0.01078498,  0.02328758,  0.06951396,  0.05373847,  0.02533235,\n",
              "        0.04307906, -0.03298698, -0.01265992,  0.02883131,  0.01145704,\n",
              "       -0.03029559,  0.02814867,  0.09258693,  0.08908885,  0.21924517,\n",
              "        0.03836972,  0.05020344,  0.13716629, -0.00859585, -0.0113667 ,\n",
              "        0.10641211, -0.07889125,  0.08034115, -0.00441031, -0.04873084,\n",
              "        0.00183913,  0.06675661,  0.00995041,  0.03010932, -0.02987454,\n",
              "        0.02509423, -0.04333989, -0.0059728 , -0.00332469, -0.0522663 ,\n",
              "       -0.03281598,  0.12006998,  0.01166376, -0.03454734,  0.01907663,\n",
              "       -0.01262398, -0.02025696,  0.01866139,  0.05016267,  0.05604192,\n",
              "        0.04971652,  0.03597424, -0.00690809,  0.05734055,  0.05945349,\n",
              "        0.0261135 ,  0.01734888, -0.00711455, -0.1295353 ,  0.01600225,\n",
              "        0.00150194, -0.03631282, -0.00469453,  0.02215887, -0.00699799,\n",
              "       -0.02894606,  0.03908806,  0.0401371 , -0.03941151, -0.02646147,\n",
              "       -0.04718655,  0.02674983,  0.07485171,  0.03144611, -0.07028159,\n",
              "       -0.0424196 , -0.2054326 , -0.09083363, -0.01121964,  0.05520659,\n",
              "       -0.11916859,  0.00788128, -0.13444994, -0.01488061, -0.02091767,\n",
              "        0.09262317,  0.06291065, -0.02200251, -0.03655258,  0.02587264,\n",
              "        0.0447952 , -0.01287306, -0.0350248 , -0.02456109, -0.04746678,\n",
              "        0.00130645,  0.01147217, -0.00531678,  0.11162786,  0.0253936 ,\n",
              "       -0.03638908, -0.05931935, -0.00549408,  0.0074574 , -0.01289796,\n",
              "       -0.0719263 , -0.02486867, -0.04750141,  0.00194147, -0.1141203 ,\n",
              "        0.01648522,  0.05083858, -0.02679086, -0.04766015,  0.00518819,\n",
              "        0.04099732,  0.02709844, -0.06511603, -0.06652133, -0.07979076,\n",
              "        0.0491582 ,  0.05377757,  0.0200878 , -0.03799915, -0.02513728,\n",
              "        0.00410288, -0.04514588, -0.04708159, -0.00559349,  0.13073431,\n",
              "       -0.09549722,  0.16606593,  0.0221815 , -0.05887613, -0.02126267,\n",
              "        0.00425452, -0.05540022, -0.06286709, -0.05455609,  0.11610305,\n",
              "        0.12443443, -0.00741135,  0.01761745, -0.0075937 , -0.05616794,\n",
              "       -0.01676267,  0.07975771, -0.04046471,  0.07211975,  0.13321361,\n",
              "        0.07106   , -0.01443719,  0.02562447,  0.05690589, -0.0090815 ,\n",
              "       -0.00628489,  0.03647495,  0.00689165,  0.04463093,  0.01837448,\n",
              "        0.00218417, -0.02093561,  0.07896647, -0.05610979,  0.02535573,\n",
              "       -0.09674191, -0.03684152,  0.01628419,  0.00908958, -0.06135098,\n",
              "        0.05458912, -0.03850613,  0.03017449, -0.1417458 ,  0.17130415,\n",
              "       -0.05436675, -0.01079106,  0.04692602, -0.02894384, -0.0273016 ,\n",
              "        0.09735578, -0.13424474, -0.02024667, -0.04736632, -0.03244197,\n",
              "        0.00541304, -0.04343438, -0.0003211 ,  0.16816942,  0.03105447,\n",
              "       -0.03063404, -0.00045107,  0.04690041,  0.11270425, -0.13718411,\n",
              "        0.05740229,  0.00801181, -0.17329559,  0.03051268, -0.1268264 ,\n",
              "       -0.06074513, -0.03838078, -0.01737073,  0.12296247, -0.05316308,\n",
              "       -0.07613882,  0.02129988,  0.0121702 , -0.01287838,  0.0768657 ,\n",
              "       -0.26769733,  0.05321693, -0.12607867, -0.02812696,  0.07982896,\n",
              "       -0.02915069, -0.01767069, -0.10350563, -0.0471432 , -0.03033449,\n",
              "        0.08542065,  0.02928957, -0.11185424, -0.00142424,  0.0379483 ,\n",
              "        0.02438426, -0.01398861,  0.14165413, -0.05115522, -0.08859383],\n",
              "      dtype=float32)"
            ]
          },
          "metadata": {},
          "execution_count": 4
        }
      ]
    },
    {
      "cell_type": "code",
      "source": [
        "ft.get_analogies(\"berlin\",\"germany\",\"france\")"
      ],
      "metadata": {
        "colab": {
          "base_uri": "https://localhost:8080/"
        },
        "id": "UyMtLtCufTP0",
        "outputId": "1011c8db-b5d6-48e9-d31f-ff595fa4fd88"
      },
      "execution_count": 5,
      "outputs": [
        {
          "output_type": "execute_result",
          "data": {
            "text/plain": [
              "[(0.7303731441497803, 'paris'),\n",
              " (0.6408537030220032, 'france.'),\n",
              " (0.6393311023712158, 'avignon'),\n",
              " (0.6316676139831543, 'paris.'),\n",
              " (0.5895596742630005, 'montpellier'),\n",
              " (0.5884554386138916, 'rennes'),\n",
              " (0.5850598812103271, 'grenoble'),\n",
              " (0.5832924246788025, 'london'),\n",
              " (0.5806092619895935, 'strasbourg'),\n",
              " (0.574320375919342, 'Paris.')]"
            ]
          },
          "metadata": {},
          "execution_count": 5
        }
      ]
    },
    {
      "cell_type": "code",
      "source": [
        "ft.get_nearest_neighbors(\"chutney\")"
      ],
      "metadata": {
        "colab": {
          "base_uri": "https://localhost:8080/"
        },
        "id": "4i4l2ZJ1feh3",
        "outputId": "5f693023-3c87-49a5-da56-2703fbc52192"
      },
      "execution_count": 6,
      "outputs": [
        {
          "output_type": "execute_result",
          "data": {
            "text/plain": [
              "[(0.8078702092170715, 'chutneys'),\n",
              " (0.7138292789459229, 'thokku'),\n",
              " (0.701572060585022, 'Chutney'),\n",
              " (0.6875490546226501, 'achaar'),\n",
              " (0.684525728225708, 'piccalilli'),\n",
              " (0.6737173199653625, 'raita'),\n",
              " (0.6715506911277771, 'chatni'),\n",
              " (0.6610829830169678, 'chutney.'),\n",
              " (0.6505922675132751, 'gojju'),\n",
              " (0.6398508548736572, 'kasundi')]"
            ]
          },
          "metadata": {},
          "execution_count": 6
        }
      ]
    },
    {
      "cell_type": "code",
      "source": [
        "import pandas as pd\n",
        "\n",
        "df= pd.read_csv(\"/content/ecommerceDataset .csv\", names=[\"category\", \"description\"], header=None)"
      ],
      "metadata": {
        "id": "-3Aqkm3Jf8HP"
      },
      "execution_count": 7,
      "outputs": []
    },
    {
      "cell_type": "code",
      "source": [
        "df =df.dropna()"
      ],
      "metadata": {
        "id": "e6MTo2U9v7Uw"
      },
      "execution_count": 8,
      "outputs": []
    },
    {
      "cell_type": "code",
      "source": [
        "df['category'] = '__label__' + df['category'].astype(str)"
      ],
      "metadata": {
        "id": "rSHNiITi3Z3n"
      },
      "execution_count": 9,
      "outputs": []
    },
    {
      "cell_type": "code",
      "source": [
        "df['category_description'] = df['category'] + ' ' + df['description']"
      ],
      "metadata": {
        "id": "uLtVXteZ3kW7"
      },
      "execution_count": 10,
      "outputs": []
    },
    {
      "cell_type": "code",
      "source": [
        "import re\n",
        "def preprocess(text):\n",
        "   # letters_only = re.sub(\"[^a-zA-Z]\",   \" \",   str(text))\n",
        "    text = re.sub(r'[^\\w\\s\\']',' ', text)\n",
        "    text = re.sub(' +', ' ', text)\n",
        "    return text.strip().lower()"
      ],
      "metadata": {
        "id": "-fluiqtSiRG2"
      },
      "execution_count": 11,
      "outputs": []
    },
    {
      "cell_type": "code",
      "source": [
        "df['description'] = df['description'].apply(lambda x : preprocess(x))\n",
        "df.head()"
      ],
      "metadata": {
        "colab": {
          "base_uri": "https://localhost:8080/",
          "height": 206
        },
        "id": "1q1WWLg9iSTf",
        "outputId": "18135fed-e094-4a8d-c590-74adbce3f953"
      },
      "execution_count": 12,
      "outputs": [
        {
          "output_type": "execute_result",
          "data": {
            "text/plain": [
              "             category                                        description  \\\n",
              "0  __label__Household  paper plane design framed wall hanging motivat...   \n",
              "1  __label__Household  saf 'floral' framed painting wood 30 inch x 10...   \n",
              "2  __label__Household  saf 'uv textured modern art print framed' pain...   \n",
              "3  __label__Household  saf flower print framed painting synthetic 13 ...   \n",
              "4  __label__Household  incredible gifts india wooden happy birthday u...   \n",
              "\n",
              "                                category_description  \n",
              "0  __label__Household Paper Plane Design Framed W...  \n",
              "1  __label__Household SAF 'Floral' Framed Paintin...  \n",
              "2  __label__Household SAF 'UV Textured Modern Art...  \n",
              "3  __label__Household SAF Flower Print Framed Pai...  \n",
              "4  __label__Household Incredible Gifts India Wood...  "
            ],
            "text/html": [
              "\n",
              "  <div id=\"df-165c6a66-b758-4a18-8ffb-77926fe3508e\">\n",
              "    <div class=\"colab-df-container\">\n",
              "      <div>\n",
              "<style scoped>\n",
              "    .dataframe tbody tr th:only-of-type {\n",
              "        vertical-align: middle;\n",
              "    }\n",
              "\n",
              "    .dataframe tbody tr th {\n",
              "        vertical-align: top;\n",
              "    }\n",
              "\n",
              "    .dataframe thead th {\n",
              "        text-align: right;\n",
              "    }\n",
              "</style>\n",
              "<table border=\"1\" class=\"dataframe\">\n",
              "  <thead>\n",
              "    <tr style=\"text-align: right;\">\n",
              "      <th></th>\n",
              "      <th>category</th>\n",
              "      <th>description</th>\n",
              "      <th>category_description</th>\n",
              "    </tr>\n",
              "  </thead>\n",
              "  <tbody>\n",
              "    <tr>\n",
              "      <th>0</th>\n",
              "      <td>__label__Household</td>\n",
              "      <td>paper plane design framed wall hanging motivat...</td>\n",
              "      <td>__label__Household Paper Plane Design Framed W...</td>\n",
              "    </tr>\n",
              "    <tr>\n",
              "      <th>1</th>\n",
              "      <td>__label__Household</td>\n",
              "      <td>saf 'floral' framed painting wood 30 inch x 10...</td>\n",
              "      <td>__label__Household SAF 'Floral' Framed Paintin...</td>\n",
              "    </tr>\n",
              "    <tr>\n",
              "      <th>2</th>\n",
              "      <td>__label__Household</td>\n",
              "      <td>saf 'uv textured modern art print framed' pain...</td>\n",
              "      <td>__label__Household SAF 'UV Textured Modern Art...</td>\n",
              "    </tr>\n",
              "    <tr>\n",
              "      <th>3</th>\n",
              "      <td>__label__Household</td>\n",
              "      <td>saf flower print framed painting synthetic 13 ...</td>\n",
              "      <td>__label__Household SAF Flower Print Framed Pai...</td>\n",
              "    </tr>\n",
              "    <tr>\n",
              "      <th>4</th>\n",
              "      <td>__label__Household</td>\n",
              "      <td>incredible gifts india wooden happy birthday u...</td>\n",
              "      <td>__label__Household Incredible Gifts India Wood...</td>\n",
              "    </tr>\n",
              "  </tbody>\n",
              "</table>\n",
              "</div>\n",
              "      <button class=\"colab-df-convert\" onclick=\"convertToInteractive('df-165c6a66-b758-4a18-8ffb-77926fe3508e')\"\n",
              "              title=\"Convert this dataframe to an interactive table.\"\n",
              "              style=\"display:none;\">\n",
              "        \n",
              "  <svg xmlns=\"http://www.w3.org/2000/svg\" height=\"24px\"viewBox=\"0 0 24 24\"\n",
              "       width=\"24px\">\n",
              "    <path d=\"M0 0h24v24H0V0z\" fill=\"none\"/>\n",
              "    <path d=\"M18.56 5.44l.94 2.06.94-2.06 2.06-.94-2.06-.94-.94-2.06-.94 2.06-2.06.94zm-11 1L8.5 8.5l.94-2.06 2.06-.94-2.06-.94L8.5 2.5l-.94 2.06-2.06.94zm10 10l.94 2.06.94-2.06 2.06-.94-2.06-.94-.94-2.06-.94 2.06-2.06.94z\"/><path d=\"M17.41 7.96l-1.37-1.37c-.4-.4-.92-.59-1.43-.59-.52 0-1.04.2-1.43.59L10.3 9.45l-7.72 7.72c-.78.78-.78 2.05 0 2.83L4 21.41c.39.39.9.59 1.41.59.51 0 1.02-.2 1.41-.59l7.78-7.78 2.81-2.81c.8-.78.8-2.07 0-2.86zM5.41 20L4 18.59l7.72-7.72 1.47 1.35L5.41 20z\"/>\n",
              "  </svg>\n",
              "      </button>\n",
              "      \n",
              "  <style>\n",
              "    .colab-df-container {\n",
              "      display:flex;\n",
              "      flex-wrap:wrap;\n",
              "      gap: 12px;\n",
              "    }\n",
              "\n",
              "    .colab-df-convert {\n",
              "      background-color: #E8F0FE;\n",
              "      border: none;\n",
              "      border-radius: 50%;\n",
              "      cursor: pointer;\n",
              "      display: none;\n",
              "      fill: #1967D2;\n",
              "      height: 32px;\n",
              "      padding: 0 0 0 0;\n",
              "      width: 32px;\n",
              "    }\n",
              "\n",
              "    .colab-df-convert:hover {\n",
              "      background-color: #E2EBFA;\n",
              "      box-shadow: 0px 1px 2px rgba(60, 64, 67, 0.3), 0px 1px 3px 1px rgba(60, 64, 67, 0.15);\n",
              "      fill: #174EA6;\n",
              "    }\n",
              "\n",
              "    [theme=dark] .colab-df-convert {\n",
              "      background-color: #3B4455;\n",
              "      fill: #D2E3FC;\n",
              "    }\n",
              "\n",
              "    [theme=dark] .colab-df-convert:hover {\n",
              "      background-color: #434B5C;\n",
              "      box-shadow: 0px 1px 3px 1px rgba(0, 0, 0, 0.15);\n",
              "      filter: drop-shadow(0px 1px 2px rgba(0, 0, 0, 0.3));\n",
              "      fill: #FFFFFF;\n",
              "    }\n",
              "  </style>\n",
              "\n",
              "      <script>\n",
              "        const buttonEl =\n",
              "          document.querySelector('#df-165c6a66-b758-4a18-8ffb-77926fe3508e button.colab-df-convert');\n",
              "        buttonEl.style.display =\n",
              "          google.colab.kernel.accessAllowed ? 'block' : 'none';\n",
              "\n",
              "        async function convertToInteractive(key) {\n",
              "          const element = document.querySelector('#df-165c6a66-b758-4a18-8ffb-77926fe3508e');\n",
              "          const dataTable =\n",
              "            await google.colab.kernel.invokeFunction('convertToInteractive',\n",
              "                                                     [key], {});\n",
              "          if (!dataTable) return;\n",
              "\n",
              "          const docLinkHtml = 'Like what you see? Visit the ' +\n",
              "            '<a target=\"_blank\" href=https://colab.research.google.com/notebooks/data_table.ipynb>data table notebook</a>'\n",
              "            + ' to learn more about interactive tables.';\n",
              "          element.innerHTML = '';\n",
              "          dataTable['output_type'] = 'display_data';\n",
              "          await google.colab.output.renderOutput(dataTable, element);\n",
              "          const docLink = document.createElement('div');\n",
              "          docLink.innerHTML = docLinkHtml;\n",
              "          element.appendChild(docLink);\n",
              "        }\n",
              "      </script>\n",
              "    </div>\n",
              "  </div>\n",
              "  "
            ]
          },
          "metadata": {},
          "execution_count": 12
        }
      ]
    },
    {
      "cell_type": "code",
      "source": [
        "df['category_description'] = df['category'] + ' ' + df['description']"
      ],
      "metadata": {
        "id": "dXNnU-MW1Xqz"
      },
      "execution_count": 13,
      "outputs": []
    },
    {
      "cell_type": "code",
      "source": [
        "from sklearn.model_selection import train_test_split\n",
        "\n",
        "train, test = train_test_split(df, test_size=0.2)"
      ],
      "metadata": {
        "id": "o_dOJrX2iXO-"
      },
      "execution_count": 14,
      "outputs": []
    },
    {
      "cell_type": "code",
      "source": [
        "train.to_csv(\"ecommerce_train.csv\", columns=[\"category_description'\"], index=False, header=False)\n",
        "test.to_csv(\"ecommerce_test.csv\", columns=[\"category_description'\"], index=False, header=False)"
      ],
      "metadata": {
        "id": "vPVl75UPiacY"
      },
      "execution_count": 15,
      "outputs": []
    },
    {
      "cell_type": "code",
      "source": [
        "import fasttext\n",
        "\n",
        "model = fasttext.train_supervised(input=\"/content/ecommerce_train.csv\")\n"
      ],
      "metadata": {
        "id": "jz68F8Sviip-"
      },
      "execution_count": 19,
      "outputs": []
    },
    {
      "cell_type": "code",
      "source": [
        "model.test(\"/content/ecommerce_test.csv\")"
      ],
      "metadata": {
        "id": "E0D83of621sJ"
      },
      "execution_count": null,
      "outputs": []
    }
  ]
}